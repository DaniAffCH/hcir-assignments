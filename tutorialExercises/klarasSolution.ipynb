{
 "cells": [
  {
   "cell_type": "markdown",
   "metadata": {},
   "source": [
    "a. State the null and alternative hypotheses.\n",
    "\n",
    "b. What t-test is most appropriate to test the claim?\n",
    "\n",
    "c. Conduct the appropriate statistical test and report the relevant output here.\n",
    "\n",
    "d. What is the decision about the null hypothesis? Justify your answer.\n",
    "\n",
    "e. Report your conclusion.\n"
   ]
  },
  {
   "cell_type": "code",
   "execution_count": 3,
   "metadata": {},
   "outputs": [
    {
     "data": {
      "text/html": [
       "<div>\n",
       "<style scoped>\n",
       "    .dataframe tbody tr th:only-of-type {\n",
       "        vertical-align: middle;\n",
       "    }\n",
       "\n",
       "    .dataframe tbody tr th {\n",
       "        vertical-align: top;\n",
       "    }\n",
       "\n",
       "    .dataframe thead th {\n",
       "        text-align: right;\n",
       "    }\n",
       "</style>\n",
       "<table border=\"1\" class=\"dataframe\">\n",
       "  <thead>\n",
       "    <tr style=\"text-align: right;\">\n",
       "      <th></th>\n",
       "      <th>hopefulness</th>\n",
       "      <th>CommBefore</th>\n",
       "      <th>CommAfter</th>\n",
       "      <th>Group</th>\n",
       "      <th>HealthScore</th>\n",
       "    </tr>\n",
       "  </thead>\n",
       "  <tbody>\n",
       "    <tr>\n",
       "      <th>0</th>\n",
       "      <td>5</td>\n",
       "      <td>126</td>\n",
       "      <td>115</td>\n",
       "      <td>1</td>\n",
       "      <td>77</td>\n",
       "    </tr>\n",
       "    <tr>\n",
       "      <th>1</th>\n",
       "      <td>3</td>\n",
       "      <td>133</td>\n",
       "      <td>125</td>\n",
       "      <td>1</td>\n",
       "      <td>88</td>\n",
       "    </tr>\n",
       "    <tr>\n",
       "      <th>2</th>\n",
       "      <td>6</td>\n",
       "      <td>126</td>\n",
       "      <td>96</td>\n",
       "      <td>1</td>\n",
       "      <td>77</td>\n",
       "    </tr>\n",
       "    <tr>\n",
       "      <th>3</th>\n",
       "      <td>2</td>\n",
       "      <td>115</td>\n",
       "      <td>115</td>\n",
       "      <td>1</td>\n",
       "      <td>90</td>\n",
       "    </tr>\n",
       "    <tr>\n",
       "      <th>4</th>\n",
       "      <td>7</td>\n",
       "      <td>108</td>\n",
       "      <td>119</td>\n",
       "      <td>1</td>\n",
       "      <td>68</td>\n",
       "    </tr>\n",
       "  </tbody>\n",
       "</table>\n",
       "</div>"
      ],
      "text/plain": [
       "   hopefulness  CommBefore  CommAfter  Group  HealthScore\n",
       "0            5         126        115      1           77\n",
       "1            3         133        125      1           88\n",
       "2            6         126         96      1           77\n",
       "3            2         115        115      1           90\n",
       "4            7         108        119      1           68"
      ]
     },
     "execution_count": 3,
     "metadata": {},
     "output_type": "execute_result"
    }
   ],
   "source": [
    "from scipy import stats\n",
    "import pandas as pd\n",
    "\n",
    "data = pd.read_csv('t_testpractice.csv')\n",
    "data.head()"
   ]
  },
  {
   "cell_type": "code",
   "execution_count": 3,
   "metadata": {},
   "outputs": [
    {
     "data": {
      "text/plain": [
       "0    77\n",
       "1    88\n",
       "2    77\n",
       "3    90\n",
       "4    68\n",
       "5    74\n",
       "6    62\n",
       "7    93\n",
       "8    82\n",
       "9    79\n",
       "Name: HealthScore, dtype: int64"
      ]
     },
     "execution_count": 3,
     "metadata": {},
     "output_type": "execute_result"
    }
   ],
   "source": [
    "#data.describe()\n",
    "group1 =data[data['Group'] == 1]['HealthScore']\n",
    "group2 =data[data['Group']== 2]['HealthScore']\n",
    "group1"
   ]
  },
  {
   "cell_type": "markdown",
   "metadata": {},
   "source": [
    "_______________\n",
    "\n",
    "\n",
    "1. Twenty students were recruited to take part in a study about how expressive writing affects physical health. 10 students were randomly assigned to write about thoughts and feelings associated with the most traumatic events in their lives (treatment). The other 10 students wrote about their plans for the day (control). After one month, all students rated their overall level of physical health on a scale from 0 (very poor health) to 100 (perfect health).\n"
   ]
  },
  {
   "cell_type": "markdown",
   "metadata": {},
   "source": [
    "a. <br> \n",
    "H0: Wrtiting down thoughts and feelings every day about traumatic events in one's life or journaling about plans for the day has no affect on one's physical health. <br>\n",
    "    HA: By writing down thoughts and feelings every day about traumatic events in one's life or about plans for the day will affect you physical health in a positive manner.<br>\n",
    "    HA != H0<br><br>\n",
    "b.  This is a In-Between subjects study and those two groups are tested independent from each other. The data type is continuous and parametic assumptions have been met. Because of that, we are going to use the independent-samples t-test. \n"
   ]
  },
  {
   "cell_type": "code",
   "execution_count": 4,
   "metadata": {},
   "outputs": [
    {
     "data": {
      "text/plain": [
       "TtestResult(statistic=2.4248978513811315, pvalue=0.026058295175946804, df=18.0)"
      ]
     },
     "execution_count": 4,
     "metadata": {},
     "output_type": "execute_result"
    }
   ],
   "source": [
    "# c.\n",
    "stats.ttest_ind(group1, group2)\n",
    "# df 10 +10 -2 people \n",
    "# the hgihter the stastic the higher the difference in mean\n",
    "t(18) = 2.424....."
   ]
  },
  {
   "cell_type": "markdown",
   "metadata": {},
   "source": [
    "\n",
    "\n",
    "d. Because the p-value is smaller than 0.05, we reject H0 and retain the alternative hypothesis which means that the it does have a positive influence to journal.\n",
    "<br>\n",
    "e. After analyzing this scenario with an indepent t-test we can conclude that our thesis about writing a daily journal either on traumatic or about your general daily life, can improve you healthlevel score and therefore your psychial health. As one can see there are no signigicant. ouitlier in the data. <br  ><br>\n",
    "___________________"
   ]
  },
  {
   "cell_type": "markdown",
   "metadata": {},
   "source": [
    "\n",
    "2. You want to study how a devastating flood impacts the hope of citizens in a small rural community. 20 citizens are randomly selected to rate how hopeful they felt on a 7-point scale, where 4 is a neutral response. You want to determine if the hopefulness ratings are above or below the neutral position.\n",
    "\n",
    "\n",
    "a. State the null and alternative hypotheses. <br>\n",
    "H0: The hope of the citizen will change by the devastating flood impact and therefore the the 7-point scale value will be 4 as neutral response.<br>\n",
    "HA: The hopefulness rating will raise below the neutral position as a reaction o the devastatig flood impacts.\n",
    "\n",
    "\n",
    "b. What t-test is most appropriate to test the claim?<br>\n",
    "One-Sample t-test becasue we just have one group of 20 text person.\n",
    "\n"
   ]
  },
  {
   "cell_type": "code",
   "execution_count": 10,
   "metadata": {},
   "outputs": [
    {
     "data": {
      "text/plain": [
       "TtestResult(statistic=1.7030301014602627, pvalue=0.10486551410069787, df=19)"
      ]
     },
     "execution_count": 10,
     "metadata": {},
     "output_type": "execute_result"
    }
   ],
   "source": [
    "# c. Conduct the appropriate statistical test and report the relevant output here.\n",
    "stats.ttest_1samp(data['hopefulness'], popmean = 4)"
   ]
  },
  {
   "cell_type": "markdown",
   "metadata": {},
   "source": [
    "d. What is the decision about the null hypothesis? Justify your answer.\n",
    "The p-value is above 0.05 so that we retain out null hypothesis.\n",
    "e. Report your conclusion.\n",
    "Conluding we keep our null-hypothesis which means that the hope of the citizen does not change due to the devastating flood impact. \n",
    "______________"
   ]
  },
  {
   "cell_type": "markdown",
   "metadata": {},
   "source": [
    "\n",
    "3. A researcher wanted to determine if the communication quality of couples changes after receiving premarital counseling. Communication quality was assessed three months before and again three months after the marriage.\n",
    "\n",
    "\n",
    "a. State the null and alternative hypotheses. <br>\n",
    "H0: Receiving premarital counseling has no effect on the quality of communication between couples; any observed differences are due to random variation.<br>\n",
    "HA: Receiving premarital counseling will change the communication quality of couples. \n",
    "\n",
    "\n",
    "b. What t-test is most appropriate to test the claim?<br>\n",
    "Paired-ttest as both experients were tested on the same group of people if the data is normally distributed. In the next step this is going to be tested."
   ]
  },
  {
   "cell_type": "code",
   "execution_count": 7,
   "metadata": {},
   "outputs": [
    {
     "name": "stdout",
     "output_type": "stream",
     "text": [
      "2.22200247353882\n",
      "0.32922915965787625\n"
     ]
    }
   ],
   "source": [
    "# c. Conduct the appropriate statistical test and report the relevant output here.\n",
    "\n",
    "#test both data sets on normalitly\n",
    "statistic, p_value = stats.normaltest(data['CommAfter'])\n",
    "print(statistic)\n",
    "print(p_value)"
   ]
  },
  {
   "cell_type": "code",
   "execution_count": 8,
   "metadata": {},
   "outputs": [
    {
     "name": "stdout",
     "output_type": "stream",
     "text": [
      "2.770391086989921\n",
      "0.2502748553865489\n"
     ]
    }
   ],
   "source": [
    "statistic, p_value = stats.normaltest(data['CommBefore'])\n",
    "print(statistic)\n",
    "print(p_value)"
   ]
  },
  {
   "cell_type": "markdown",
   "metadata": {},
   "source": [
    "In both cases the p-values are both above 0.05, so the data sets pass the normality test. Now we apply the paired t-test."
   ]
  },
  {
   "cell_type": "code",
   "execution_count": 9,
   "metadata": {},
   "outputs": [
    {
     "data": {
      "text/plain": [
       "TtestResult(statistic=-4.48666725769417, pvalue=0.0002527170766974007, df=19)"
      ]
     },
     "execution_count": 9,
     "metadata": {},
     "output_type": "execute_result"
    }
   ],
   "source": [
    "stats.ttest_rel(data['CommAfter'], data['CommBefore'])"
   ]
  },
  {
   "cell_type": "markdown",
   "metadata": {},
   "source": [
    "d. What is the decision about the null hypothesis? Justify your answer.\n",
    "The p-value is below 0.05 so that we reject the null-hypothesis and accept our  alternative hypothesis. So, based on the ttest recieving premarital counseling will change the communication quality of couples. <br>\n",
    "e. Report your conclusion.\n",
    "After doing the nromality test, a paired ttest is as suitable statistical test. After deciding to reject the Null-hypothesis we can conclude that there will be a change in communication.\n"
   ]
  },
  {
   "cell_type": "markdown",
   "metadata": {},
   "source": [
    "## Daniele Exam for me"
   ]
  },
  {
   "cell_type": "code",
   "execution_count": 16,
   "metadata": {},
   "outputs": [
    {
     "data": {
      "text/plain": [
       "count    100.000000\n",
       "mean      30.355538\n",
       "std        9.688942\n",
       "min        8.876066\n",
       "25%       23.555077\n",
       "50%       30.416351\n",
       "75%       36.243449\n",
       "max       57.459253\n",
       "Name: Approach1_grade, dtype: float64"
      ]
     },
     "execution_count": 16,
     "metadata": {},
     "output_type": "execute_result"
    }
   ],
   "source": [
    "import numpy as np\n",
    "import pandas as pd\n",
    "from scipy import stats\n",
    "import seaborn as sb\n",
    "np.random.seed(26)\n",
    "data = pd.DataFrame({'Approach1_grade': np.clip(np.random.normal(loc = 30, scale = 10, size = 100),0 ,100),\n",
    "                     'Approach2_grade': np.clip(np.random.normal(loc = 40, scale = 35, size = 100),0 ,100)})\n",
    "approach1 = data['Approach1_grade']\n",
    "approach2 = data['Approach2_grade']\n",
    "approach1.describe()"
   ]
  },
  {
   "cell_type": "code",
   "execution_count": 21,
   "metadata": {},
   "outputs": [
    {
     "data": {
      "text/plain": [
       "<seaborn.axisgrid.FacetGrid at 0x15ff81220>"
      ]
     },
     "execution_count": 21,
     "metadata": {},
     "output_type": "execute_result"
    },
    {
     "data": {
      "image/png": "[encoded data removed]",
      "text/plain": [
       "<Figure size 672.75x500 with 1 Axes>"
      ]
     },
     "metadata": {},
     "output_type": "display_data"
    }
   ],
   "source": [
    "sb.displot(data = data[['Approach1_grade', 'Approach2_grade']],kind='kde')"
   ]
  },
  {
   "cell_type": "markdown",
   "metadata": {},
   "source": [
    "Research question: Does utilizing the new planner improve the robotic soccer game for the team?\n",
    "H0: There is no improvement with the new planner.\n",
    "H1: The planer does change the game play and will be assigned with a better grade than palying with the older planer.\n",
    "T-test: paired t-test, two experiements on the same group of people\n"
   ]
  },
  {
   "cell_type": "code",
   "execution_count": 11,
   "metadata": {},
   "outputs": [
    {
     "data": {
      "text/plain": [
       "NormaltestResult(statistic=8.148915159178712, pvalue=0.01700143410120781)"
      ]
     },
     "execution_count": 11,
     "metadata": {},
     "output_type": "execute_result"
    }
   ],
   "source": [
    "stats.normaltest(approach1)\n",
    "stats.normaltest(approach2)"
   ]
  },
  {
   "cell_type": "markdown",
   "metadata": {},
   "source": [
    "Because both pvalues of the normal test are above 0.05 we can say that the data is normal distributed. "
   ]
  },
  {
   "cell_type": "code",
   "execution_count": 12,
   "metadata": {},
   "outputs": [
    {
     "data": {
      "text/plain": [
       "TtestResult(statistic=-3.0619588011538243, pvalue=0.0028314218455114887, df=99)"
      ]
     },
     "execution_count": 12,
     "metadata": {},
     "output_type": "execute_result"
    }
   ],
   "source": [
    "stats.ttest_rel(approach1, approach2)"
   ]
  },
  {
   "cell_type": "markdown",
   "metadata": {},
   "source": [
    "Because the pvalue is  below 0.05 we reject H0 and can say therefore that there is a change by using the new planner. As one can see in the plot there are some outliers. The values from both sample vary a lot.  "
   ]
  }
 ],
 "metadata": {
  "kernelspec": {
   "display_name": "Python 3",
   "language": "python",
   "name": "python3"
  },
  "language_info": {
   "codemirror_mode": {
    "name": "ipython",
    "version": 3
   },
   "file_extension": ".py",
   "mimetype": "text/x-python",
   "name": "python",
   "nbconvert_exporter": "python",
   "pygments_lexer": "ipython3",
   "version": "3.9.6"
  }
 },
 "nbformat": 4,
 "nbformat_minor": 2
}
