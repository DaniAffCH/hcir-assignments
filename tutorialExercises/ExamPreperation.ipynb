{
 "cells": [
  {
   "cell_type": "code",
   "execution_count": 11,
   "id": "815010b2",
   "metadata": {
    "ExecuteTime": {
     "end_time": "2024-01-21T10:47:10.745245Z",
     "start_time": "2024-01-21T10:47:10.739819Z"
    }
   },
   "outputs": [],
   "source": [
    "from scipy import stats\n",
    "import pandas as pd"
   ]
  },
  {
   "cell_type": "code",
   "execution_count": 12,
   "id": "ae28e059",
   "metadata": {
    "ExecuteTime": {
     "end_time": "2024-01-21T10:47:11.102811Z",
     "start_time": "2024-01-21T10:47:10.748736Z"
    }
   },
   "outputs": [
    {
     "data": {
      "text/html": [
       "<div>\n",
       "<style scoped>\n",
       "    .dataframe tbody tr th:only-of-type {\n",
       "        vertical-align: middle;\n",
       "    }\n",
       "\n",
       "    .dataframe tbody tr th {\n",
       "        vertical-align: top;\n",
       "    }\n",
       "\n",
       "    .dataframe thead th {\n",
       "        text-align: right;\n",
       "    }\n",
       "</style>\n",
       "<table border=\"1\" class=\"dataframe\">\n",
       "  <thead>\n",
       "    <tr style=\"text-align: right;\">\n",
       "      <th></th>\n",
       "      <th>Weight Before</th>\n",
       "      <th>Weight After</th>\n",
       "      <th>Difference</th>\n",
       "    </tr>\n",
       "  </thead>\n",
       "  <tbody>\n",
       "    <tr>\n",
       "      <th>0</th>\n",
       "      <td>122.54</td>\n",
       "      <td>135.74</td>\n",
       "      <td>13.20</td>\n",
       "    </tr>\n",
       "    <tr>\n",
       "      <th>1</th>\n",
       "      <td>120.78</td>\n",
       "      <td>129.36</td>\n",
       "      <td>8.58</td>\n",
       "    </tr>\n",
       "    <tr>\n",
       "      <th>2</th>\n",
       "      <td>131.12</td>\n",
       "      <td>145.20</td>\n",
       "      <td>14.08</td>\n",
       "    </tr>\n",
       "    <tr>\n",
       "      <th>3</th>\n",
       "      <td>137.06</td>\n",
       "      <td>145.64</td>\n",
       "      <td>8.58</td>\n",
       "    </tr>\n",
       "    <tr>\n",
       "      <th>4</th>\n",
       "      <td>163.24</td>\n",
       "      <td>173.80</td>\n",
       "      <td>10.56</td>\n",
       "    </tr>\n",
       "  </tbody>\n",
       "</table>\n",
       "</div>"
      ],
      "text/plain": [
       "   Weight Before  Weight After  Difference\n",
       "0         122.54        135.74       13.20\n",
       "1         120.78        129.36        8.58\n",
       "2         131.12        145.20       14.08\n",
       "3         137.06        145.64        8.58\n",
       "4         163.24        173.80       10.56"
      ]
     },
     "execution_count": 12,
     "metadata": {},
     "output_type": "execute_result"
    }
   ],
   "source": [
    "weight_gain_data = pd.read_csv('https://raw.githubusercontent.com/jasp-stats/jasp-desktop/4527546659fdbd0849261f22ec84e9db76adc49d/Resources/Data%20Sets/Data%20Library/2.%20T-Tests/Weight%20Gain.csv')\n",
    "weight_gain_data.head()"
   ]
  },
  {
   "cell_type": "markdown",
   "id": "43fbda8e",
   "metadata": {},
   "source": [
    "\n",
    "Try plotting the data to get a complete picture \n",
    "\n",
    "- scatter\n",
    "- densitiy plot\n",
    "\n",
    "Why statistical tests?"
   ]
  },
  {
   "cell_type": "markdown",
   "id": "448afe0f",
   "metadata": {},
   "source": [
    "Twenty students were recruited to take part in a study about how expressive writing affects physical health. 10 students were randomly assigned to write about thoughts and feelings associated with the most traumatic events in their lives (treatment). The other 10 students wrote about their plans for the day (control). After one month, all students rated their overall level of physical health on a scale from 0 (very poor health) to 100 (perfect health). <br> <br>\n",
    "a. State the null and alternative hypotheses.\n",
    "\n",
    "b. What t-test is most appropriate to test the claim?\n",
    "\n",
    "c. Conduct the appropriate statistical test and report the relevant output here.\n",
    "\n",
    "d. What is the decision about the null hypothesis? Justify your answer.\n",
    "\n",
    "e. Report your conclusion.\n"
   ]
  },
  {
   "cell_type": "code",
   "execution_count": null,
   "id": "3e1a62be",
   "metadata": {},
   "outputs": [],
   "source": []
  },
  {
   "cell_type": "markdown",
   "id": "499f547c",
   "metadata": {},
   "source": [
    "You want to study how a devastating flood impacts the hope of citizens in a small rural community. 20 citizens are randomly selected to rate how hopeful they felt on a 7-point scale, where 4 is a neutral response. You want to determine if the hopefulness ratings are above or below the neutral position.\n",
    "\n",
    "\n",
    "a. State the null and alternative hypotheses.\n",
    "\n",
    "b. What t-test is most appropriate to test the claim?\n",
    "\n",
    "c. Conduct the appropriate statistical test and report the relevant output here.\n",
    "\n",
    "d. What is the decision about the null hypothesis? Justify your answer.\n",
    "\n",
    "e. Report your conclusion.\n"
   ]
  },
  {
   "cell_type": "code",
   "execution_count": null,
   "id": "a8973f3f",
   "metadata": {},
   "outputs": [],
   "source": []
  },
  {
   "cell_type": "markdown",
   "id": "0e6e25bb",
   "metadata": {},
   "source": [
    "A researcher wanted to determine if the communication quality of couples changes after receiving premarital counseling. Communication quality was assessed three months before and again three months after the marriage.\n",
    "\n",
    "a. State the null and alternative hypotheses.\n",
    "\n",
    "b. What t-test is most appropriate to test the claim?\n",
    "\n",
    "c. Conduct the appropriate statistical test and report the relevant output here.\n",
    "\n",
    "d. What is the decision about the null hypothesis? Justify your answer.\n",
    "\n",
    "e. Report your conclusion.\n"
   ]
  },
  {
   "cell_type": "markdown",
   "id": "93a67eba",
   "metadata": {},
   "source": [
    "\"Weight Gain\", provides weights of 16 participants before and after an eight-week period of excessive calorie intake (Moore et al., 2012, p. 425).\n",
    "This data set, Weight Gain, provides weight of 16 participants before and after an eight-week period of excessive calorie intake. Specifi- cally:\n",
    "“In one study, 16 non-obese adults aged 25 to 36 years, were fed 1000 calories per day in excess of the calories needed to maintain a stable body weight. The subjects maintained this diet for 8 weeks. In total they consumed 56,000 extra calories.\n",
    "\n",
    "Weight Before - Weight in pounds (lb) measured before eight weeks of excessive calorie intake.<br>\n",
    "Weight After - Weight in pounds (lb) measured after eight weeks of excessive calorie intake.<br>\n",
    "Difference - Weight After - Weight Before.\n",
    "\n",
    "\n",
    "a. State the null and alternative hypotheses.\n",
    "\n",
    "b. What t-test is most appropriate to test the claim?\n",
    "\n",
    "c. Conduct the appropriate statistical test and report the relevant output here.\n",
    "\n",
    "d. What is the decision about the null hypothesis? Justify your answer.\n",
    "\n",
    "e. Report your conclusion.\n"
   ]
  },
  {
   "cell_type": "code",
   "execution_count": 14,
   "id": "96ceffa1",
   "metadata": {
    "ExecuteTime": {
     "end_time": "2024-01-21T10:47:37.222648Z",
     "start_time": "2024-01-21T10:47:37.122096Z"
    }
   },
   "outputs": [
    {
     "data": {
      "text/html": [
       "<div>\n",
       "<style scoped>\n",
       "    .dataframe tbody tr th:only-of-type {\n",
       "        vertical-align: middle;\n",
       "    }\n",
       "\n",
       "    .dataframe tbody tr th {\n",
       "        vertical-align: top;\n",
       "    }\n",
       "\n",
       "    .dataframe thead th {\n",
       "        text-align: right;\n",
       "    }\n",
       "</style>\n",
       "<table border=\"1\" class=\"dataframe\">\n",
       "  <thead>\n",
       "    <tr style=\"text-align: right;\">\n",
       "      <th></th>\n",
       "      <th>Weight Before</th>\n",
       "      <th>Weight After</th>\n",
       "      <th>Difference</th>\n",
       "    </tr>\n",
       "  </thead>\n",
       "  <tbody>\n",
       "    <tr>\n",
       "      <th>0</th>\n",
       "      <td>122.54</td>\n",
       "      <td>135.74</td>\n",
       "      <td>13.20</td>\n",
       "    </tr>\n",
       "    <tr>\n",
       "      <th>1</th>\n",
       "      <td>120.78</td>\n",
       "      <td>129.36</td>\n",
       "      <td>8.58</td>\n",
       "    </tr>\n",
       "    <tr>\n",
       "      <th>2</th>\n",
       "      <td>131.12</td>\n",
       "      <td>145.20</td>\n",
       "      <td>14.08</td>\n",
       "    </tr>\n",
       "    <tr>\n",
       "      <th>3</th>\n",
       "      <td>137.06</td>\n",
       "      <td>145.64</td>\n",
       "      <td>8.58</td>\n",
       "    </tr>\n",
       "    <tr>\n",
       "      <th>4</th>\n",
       "      <td>163.24</td>\n",
       "      <td>173.80</td>\n",
       "      <td>10.56</td>\n",
       "    </tr>\n",
       "  </tbody>\n",
       "</table>\n",
       "</div>"
      ],
      "text/plain": [
       "   Weight Before  Weight After  Difference\n",
       "0         122.54        135.74       13.20\n",
       "1         120.78        129.36        8.58\n",
       "2         131.12        145.20       14.08\n",
       "3         137.06        145.64        8.58\n",
       "4         163.24        173.80       10.56"
      ]
     },
     "execution_count": 14,
     "metadata": {},
     "output_type": "execute_result"
    }
   ],
   "source": [
    "weight_gain_data = pd.read_csv('https://raw.githubusercontent.com/jasp-stats/jasp-desktop/4527546659fdbd0849261f22ec84e9db76adc49d/Resources/Data%20Sets/Data%20Library/2.%20T-Tests/Weight%20Gain.csv')\n",
    "weight_gain_data.head()"
   ]
  },
  {
   "cell_type": "markdown",
   "id": "2edb7738",
   "metadata": {},
   "source": [
    "This data set, Invisibility Cloak, provides the number of mischievous acts committed by two groups of people, those with and those with- out an invisibility cloak. Specifically:\n",
    "“I imagine a future in which we have some cloaks of invisibility to test out. Given my slightly mischievous streak, the future me is interested in the effect that wearing a cloak of invisibility has on the tendency for mischief. I take 24 participants and place them in an enclosed community. The community is riddled with hidden cameras so that we can record mischievous acts. Half of the participants are given cloaks of invisibility; they are told not to tell anyone else about their cloak and that they can wear it whenever they like. I measure how many mischievous acts they perform in a week.” (Field 2017, p. 755)"
   ]
  },
  {
   "cell_type": "code",
   "execution_count": 15,
   "id": "53a54e3f",
   "metadata": {
    "ExecuteTime": {
     "end_time": "2024-01-21T10:48:26.785982Z",
     "start_time": "2024-01-21T10:48:26.723061Z"
    }
   },
   "outputs": [
    {
     "data": {
      "text/html": [
       "<div>\n",
       "<style scoped>\n",
       "    .dataframe tbody tr th:only-of-type {\n",
       "        vertical-align: middle;\n",
       "    }\n",
       "\n",
       "    .dataframe tbody tr th {\n",
       "        vertical-align: top;\n",
       "    }\n",
       "\n",
       "    .dataframe thead th {\n",
       "        text-align: right;\n",
       "    }\n",
       "</style>\n",
       "<table border=\"1\" class=\"dataframe\">\n",
       "  <thead>\n",
       "    <tr style=\"text-align: right;\">\n",
       "      <th></th>\n",
       "      <th>Participant</th>\n",
       "      <th>Cloak</th>\n",
       "      <th>Mischief</th>\n",
       "    </tr>\n",
       "  </thead>\n",
       "  <tbody>\n",
       "    <tr>\n",
       "      <th>0</th>\n",
       "      <td>1</td>\n",
       "      <td>0</td>\n",
       "      <td>3</td>\n",
       "    </tr>\n",
       "    <tr>\n",
       "      <th>1</th>\n",
       "      <td>2</td>\n",
       "      <td>0</td>\n",
       "      <td>1</td>\n",
       "    </tr>\n",
       "    <tr>\n",
       "      <th>2</th>\n",
       "      <td>3</td>\n",
       "      <td>0</td>\n",
       "      <td>5</td>\n",
       "    </tr>\n",
       "    <tr>\n",
       "      <th>3</th>\n",
       "      <td>4</td>\n",
       "      <td>0</td>\n",
       "      <td>4</td>\n",
       "    </tr>\n",
       "    <tr>\n",
       "      <th>4</th>\n",
       "      <td>5</td>\n",
       "      <td>0</td>\n",
       "      <td>6</td>\n",
       "    </tr>\n",
       "  </tbody>\n",
       "</table>\n",
       "</div>"
      ],
      "text/plain": [
       "   Participant  Cloak  Mischief\n",
       "0            1      0         3\n",
       "1            2      0         1\n",
       "2            3      0         5\n",
       "3            4      0         4\n",
       "4            5      0         6"
      ]
     },
     "execution_count": 15,
     "metadata": {},
     "output_type": "execute_result"
    }
   ],
   "source": [
    "invisible_cloak_data = pd.read_csv('https://raw.githubusercontent.com/jasp-stats/jasp-desktop/development/Resources/Data%20Sets/Data%20Library/2.%20T-Tests/Invisibility%20Cloak.csv')\n",
    "invisible_cloak_data.head()"
   ]
  },
  {
   "cell_type": "markdown",
   "id": "7699268f",
   "metadata": {},
   "source": [
    "We want to test whether directed reading activities in the classroom help elementary school students improve aspects of their reading ability. A treatment class of 23 third-grade students participated in these activities for eight weeks, and a control class of 23 third-graders followed the same curriculum without the activities. After the eight-week period, students in both classes took a Degree of Reading Power (DRP) test which measures the aspects of reading ability that the treatment is designed to improve. Assuming the data is normal, what type test should we use if we can assume that all of the data is normal? <br><br>\n",
    "This data set, Directed Reading Activities, provides reading perfor- mance of two groups of pupils – one control group and one group that was given Directed Reading Activities. Specifically:\n",
    "“An educator believes that directed reading activities in the classroom will help elementary school pupils improve their reading ability. The educator arranges for a third-grade class of 21 students to participate in these activities for a period of eight-weeks. A control class of 23 third-graders follows the same curriculum without the directed read- ing activities. At the end of the eight weeks, all students are given a Degree of Reading Power test (DRP), which measures the aspects of reading ability that the treatment is designed to improve."
   ]
  },
  {
   "cell_type": "code",
   "execution_count": 17,
   "id": "72fac779",
   "metadata": {
    "ExecuteTime": {
     "end_time": "2024-01-21T10:52:06.326654Z",
     "start_time": "2024-01-21T10:52:06.256878Z"
    }
   },
   "outputs": [
    {
     "data": {
      "text/html": [
       "<div>\n",
       "<style scoped>\n",
       "    .dataframe tbody tr th:only-of-type {\n",
       "        vertical-align: middle;\n",
       "    }\n",
       "\n",
       "    .dataframe tbody tr th {\n",
       "        vertical-align: top;\n",
       "    }\n",
       "\n",
       "    .dataframe thead th {\n",
       "        text-align: right;\n",
       "    }\n",
       "</style>\n",
       "<table border=\"1\" class=\"dataframe\">\n",
       "  <thead>\n",
       "    <tr style=\"text-align: right;\">\n",
       "      <th></th>\n",
       "      <th>id</th>\n",
       "      <th>group</th>\n",
       "      <th>g</th>\n",
       "      <th>drp</th>\n",
       "    </tr>\n",
       "  </thead>\n",
       "  <tbody>\n",
       "    <tr>\n",
       "      <th>0</th>\n",
       "      <td>1</td>\n",
       "      <td>Treat</td>\n",
       "      <td>0</td>\n",
       "      <td>24</td>\n",
       "    </tr>\n",
       "    <tr>\n",
       "      <th>1</th>\n",
       "      <td>2</td>\n",
       "      <td>Treat</td>\n",
       "      <td>0</td>\n",
       "      <td>56</td>\n",
       "    </tr>\n",
       "    <tr>\n",
       "      <th>2</th>\n",
       "      <td>3</td>\n",
       "      <td>Treat</td>\n",
       "      <td>0</td>\n",
       "      <td>43</td>\n",
       "    </tr>\n",
       "    <tr>\n",
       "      <th>3</th>\n",
       "      <td>4</td>\n",
       "      <td>Treat</td>\n",
       "      <td>0</td>\n",
       "      <td>59</td>\n",
       "    </tr>\n",
       "    <tr>\n",
       "      <th>4</th>\n",
       "      <td>5</td>\n",
       "      <td>Treat</td>\n",
       "      <td>0</td>\n",
       "      <td>58</td>\n",
       "    </tr>\n",
       "  </tbody>\n",
       "</table>\n",
       "</div>"
      ],
      "text/plain": [
       "   id  group  g  drp\n",
       "0   1  Treat  0   24\n",
       "1   2  Treat  0   56\n",
       "2   3  Treat  0   43\n",
       "3   4  Treat  0   59\n",
       "4   5  Treat  0   58"
      ]
     },
     "execution_count": 17,
     "metadata": {},
     "output_type": "execute_result"
    }
   ],
   "source": [
    "reading_data = pd.read_csv('https://raw.githubusercontent.com/jasp-stats/jasp-desktop/development/Resources/Data%20Sets/Data%20Library/2.%20T-Tests/Directed%20Reading%20Activities.csv')\n",
    "reading_data.head()\n"
   ]
  },
  {
   "cell_type": "markdown",
   "id": "5594a91b",
   "metadata": {},
   "source": [
    "This data set, Kitchen Rolls, provides openness to experience scores for two groups of students, who rotated a kitchen roll either clock- wise or counterclockwise. Specifically, this data set was reported in Wagenmakers et al. (2015) who sought to replicate an original result from Topolinski and Sparenberg (2012). Participants were asked to turn a kitchen roll clockwise or counter-clockwise1 while answering a questionnaire with 12 questions regarding openness to experience.\n"
   ]
  },
  {
   "cell_type": "code",
   "execution_count": 19,
   "id": "bcce7a32",
   "metadata": {
    "ExecuteTime": {
     "end_time": "2024-01-21T11:17:27.210913Z",
     "start_time": "2024-01-21T11:17:26.914245Z"
    }
   },
   "outputs": [
    {
     "data": {
      "text/html": [
       "<div>\n",
       "<style scoped>\n",
       "    .dataframe tbody tr th:only-of-type {\n",
       "        vertical-align: middle;\n",
       "    }\n",
       "\n",
       "    .dataframe tbody tr th {\n",
       "        vertical-align: top;\n",
       "    }\n",
       "\n",
       "    .dataframe thead th {\n",
       "        text-align: right;\n",
       "    }\n",
       "</style>\n",
       "<table border=\"1\" class=\"dataframe\">\n",
       "  <thead>\n",
       "    <tr style=\"text-align: right;\">\n",
       "      <th></th>\n",
       "      <th>ParticipantNumber</th>\n",
       "      <th>Condition</th>\n",
       "      <th>q1_check</th>\n",
       "      <th>q2_check</th>\n",
       "      <th>q1_NEO</th>\n",
       "      <th>q2_NEO</th>\n",
       "      <th>q3_NEO</th>\n",
       "      <th>q4_NEO</th>\n",
       "      <th>q5_NEO</th>\n",
       "      <th>q6_NEO</th>\n",
       "      <th>...</th>\n",
       "      <th>q12_NEO</th>\n",
       "      <th>mean_NEO</th>\n",
       "      <th>q3_check</th>\n",
       "      <th>q4_check</th>\n",
       "      <th>Include</th>\n",
       "      <th>Rotation</th>\n",
       "      <th>Age</th>\n",
       "      <th>Sex</th>\n",
       "      <th>Student</th>\n",
       "      <th>Major.Occupation</th>\n",
       "    </tr>\n",
       "  </thead>\n",
       "  <tbody>\n",
       "    <tr>\n",
       "      <th>0</th>\n",
       "      <td>1</td>\n",
       "      <td>1</td>\n",
       "      <td>2</td>\n",
       "      <td>6</td>\n",
       "      <td>4</td>\n",
       "      <td>2</td>\n",
       "      <td>1</td>\n",
       "      <td>3</td>\n",
       "      <td>4</td>\n",
       "      <td>4</td>\n",
       "      <td>...</td>\n",
       "      <td>5</td>\n",
       "      <td>0.666667</td>\n",
       "      <td>5</td>\n",
       "      <td>5</td>\n",
       "      <td>True</td>\n",
       "      <td>counter</td>\n",
       "      <td>25</td>\n",
       "      <td>M</td>\n",
       "      <td>Y</td>\n",
       "      <td>Rechten</td>\n",
       "    </tr>\n",
       "    <tr>\n",
       "      <th>1</th>\n",
       "      <td>2</td>\n",
       "      <td>2</td>\n",
       "      <td>3</td>\n",
       "      <td>5</td>\n",
       "      <td>5</td>\n",
       "      <td>3</td>\n",
       "      <td>4</td>\n",
       "      <td>4</td>\n",
       "      <td>3</td>\n",
       "      <td>5</td>\n",
       "      <td>...</td>\n",
       "      <td>4</td>\n",
       "      <td>1.166670</td>\n",
       "      <td>8</td>\n",
       "      <td>1</td>\n",
       "      <td>True</td>\n",
       "      <td>clock</td>\n",
       "      <td>20</td>\n",
       "      <td>F</td>\n",
       "      <td>Y</td>\n",
       "      <td>Taal- en Cultuurstudies</td>\n",
       "    </tr>\n",
       "    <tr>\n",
       "      <th>2</th>\n",
       "      <td>3</td>\n",
       "      <td>3</td>\n",
       "      <td>7</td>\n",
       "      <td>3</td>\n",
       "      <td>4</td>\n",
       "      <td>2</td>\n",
       "      <td>4</td>\n",
       "      <td>4</td>\n",
       "      <td>4</td>\n",
       "      <td>5</td>\n",
       "      <td>...</td>\n",
       "      <td>4</td>\n",
       "      <td>0.833333</td>\n",
       "      <td>7</td>\n",
       "      <td>2</td>\n",
       "      <td>True</td>\n",
       "      <td>counter</td>\n",
       "      <td>25</td>\n",
       "      <td>F</td>\n",
       "      <td>Y</td>\n",
       "      <td>Politicologie</td>\n",
       "    </tr>\n",
       "    <tr>\n",
       "      <th>3</th>\n",
       "      <td>4</td>\n",
       "      <td>4</td>\n",
       "      <td>4</td>\n",
       "      <td>5</td>\n",
       "      <td>3</td>\n",
       "      <td>3</td>\n",
       "      <td>2</td>\n",
       "      <td>2</td>\n",
       "      <td>2</td>\n",
       "      <td>3</td>\n",
       "      <td>...</td>\n",
       "      <td>3</td>\n",
       "      <td>0.000000</td>\n",
       "      <td>7</td>\n",
       "      <td>4</td>\n",
       "      <td>True</td>\n",
       "      <td>clock</td>\n",
       "      <td>19</td>\n",
       "      <td>F</td>\n",
       "      <td>Y</td>\n",
       "      <td>Psychologie</td>\n",
       "    </tr>\n",
       "    <tr>\n",
       "      <th>4</th>\n",
       "      <td>5</td>\n",
       "      <td>1</td>\n",
       "      <td>3</td>\n",
       "      <td>3</td>\n",
       "      <td>1</td>\n",
       "      <td>1</td>\n",
       "      <td>1</td>\n",
       "      <td>3</td>\n",
       "      <td>3</td>\n",
       "      <td>4</td>\n",
       "      <td>...</td>\n",
       "      <td>2</td>\n",
       "      <td>-0.250000</td>\n",
       "      <td>5</td>\n",
       "      <td>2</td>\n",
       "      <td>True</td>\n",
       "      <td>counter</td>\n",
       "      <td>20</td>\n",
       "      <td>F</td>\n",
       "      <td>Y</td>\n",
       "      <td>Geneeskunde</td>\n",
       "    </tr>\n",
       "  </tbody>\n",
       "</table>\n",
       "<p>5 rows × 25 columns</p>\n",
       "</div>"
      ],
      "text/plain": [
       "   ParticipantNumber  Condition  q1_check  q2_check  q1_NEO  q2_NEO  q3_NEO  \\\n",
       "0                  1          1         2         6       4       2       1   \n",
       "1                  2          2         3         5       5       3       4   \n",
       "2                  3          3         7         3       4       2       4   \n",
       "3                  4          4         4         5       3       3       2   \n",
       "4                  5          1         3         3       1       1       1   \n",
       "\n",
       "   q4_NEO  q5_NEO  q6_NEO  ...  q12_NEO  mean_NEO  q3_check  q4_check  \\\n",
       "0       3       4       4  ...        5  0.666667         5         5   \n",
       "1       4       3       5  ...        4  1.166670         8         1   \n",
       "2       4       4       5  ...        4  0.833333         7         2   \n",
       "3       2       2       3  ...        3  0.000000         7         4   \n",
       "4       3       3       4  ...        2 -0.250000         5         2   \n",
       "\n",
       "   Include  Rotation  Age  Sex  Student         Major.Occupation  \n",
       "0     True   counter   25    M        Y                  Rechten  \n",
       "1     True     clock   20    F        Y  Taal- en Cultuurstudies  \n",
       "2     True   counter   25    F        Y            Politicologie  \n",
       "3     True     clock   19    F        Y              Psychologie  \n",
       "4     True   counter   20    F        Y              Geneeskunde  \n",
       "\n",
       "[5 rows x 25 columns]"
      ]
     },
     "execution_count": 19,
     "metadata": {},
     "output_type": "execute_result"
    }
   ],
   "source": [
    "weight_gain_data = pd.read_csv('https://raw.githubusercontent.com/jasp-stats/jasp-desktop/development/Resources/Data%20Sets/Data%20Library/2.%20T-Tests/Kitchen%20Rolls.csv')\n",
    "weight_gain_data.head()\n"
   ]
  },
  {
   "cell_type": "markdown",
   "id": "f1b246bd",
   "metadata": {},
   "source": [
    "A study of dementia patients in nursing homes recorded various types of disruptive behaviors every day for 12 weeks. The days were classified as moon days if they were in a three-day period centered at the day of the full moon. For each patient the average number of disruptive behaviors was computed for moon days and for all other days."
   ]
  },
  {
   "cell_type": "code",
   "execution_count": null,
   "id": "e2aa52e5",
   "metadata": {},
   "outputs": [],
   "source": [
    "moon_data = pd.read_csv('https://raw.githubusercontent.com/jasp-stats/jasp-desktop/development/Resources/Data%20Sets/Data%20Library/2.%20T-Tests/Moon%20and%20Aggression.csv')\n",
    "moon_data.head()"
   ]
  },
  {
   "cell_type": "markdown",
   "id": "1f03117f",
   "metadata": {},
   "source": [
    "This data set, Stereograms, provides the time it took two groups of participants to see the objects hidden in a stereogram - one group received advance information about the scene, the other group did not. Specifically:\n",
    "“Frisby and Clatworthy (1975) presented random dot stereograms\n",
    "to 78 participants. Each participant was asked to report how long it took them to fuse the random dot stereogram. Of the 78 participants, 35 were given extra visual information about the target image, in the form of a 3D model. The remaining participants were given no such information."
   ]
  },
  {
   "cell_type": "code",
   "execution_count": 18,
   "id": "b678034c",
   "metadata": {
    "ExecuteTime": {
     "end_time": "2024-01-21T11:15:58.136080Z",
     "start_time": "2024-01-21T11:15:57.906278Z"
    }
   },
   "outputs": [
    {
     "data": {
      "text/html": [
       "<div>\n",
       "<style scoped>\n",
       "    .dataframe tbody tr th:only-of-type {\n",
       "        vertical-align: middle;\n",
       "    }\n",
       "\n",
       "    .dataframe tbody tr th {\n",
       "        vertical-align: top;\n",
       "    }\n",
       "\n",
       "    .dataframe thead th {\n",
       "        text-align: right;\n",
       "    }\n",
       "</style>\n",
       "<table border=\"1\" class=\"dataframe\">\n",
       "  <thead>\n",
       "    <tr style=\"text-align: right;\">\n",
       "      <th></th>\n",
       "      <th>Unnamed: 0</th>\n",
       "      <th>fuseTime</th>\n",
       "      <th>condition</th>\n",
       "      <th>logFuseTime</th>\n",
       "    </tr>\n",
       "  </thead>\n",
       "  <tbody>\n",
       "    <tr>\n",
       "      <th>0</th>\n",
       "      <td>1</td>\n",
       "      <td>47.20001</td>\n",
       "      <td>NV</td>\n",
       "      <td>3.854394</td>\n",
       "    </tr>\n",
       "    <tr>\n",
       "      <th>1</th>\n",
       "      <td>2</td>\n",
       "      <td>21.99998</td>\n",
       "      <td>NV</td>\n",
       "      <td>3.091042</td>\n",
       "    </tr>\n",
       "    <tr>\n",
       "      <th>2</th>\n",
       "      <td>3</td>\n",
       "      <td>20.39999</td>\n",
       "      <td>NV</td>\n",
       "      <td>3.015534</td>\n",
       "    </tr>\n",
       "    <tr>\n",
       "      <th>3</th>\n",
       "      <td>4</td>\n",
       "      <td>19.70001</td>\n",
       "      <td>NV</td>\n",
       "      <td>2.980619</td>\n",
       "    </tr>\n",
       "    <tr>\n",
       "      <th>4</th>\n",
       "      <td>5</td>\n",
       "      <td>17.40000</td>\n",
       "      <td>NV</td>\n",
       "      <td>2.856470</td>\n",
       "    </tr>\n",
       "  </tbody>\n",
       "</table>\n",
       "</div>"
      ],
      "text/plain": [
       "   Unnamed: 0  fuseTime condition  logFuseTime\n",
       "0           1  47.20001        NV     3.854394\n",
       "1           2  21.99998        NV     3.091042\n",
       "2           3  20.39999        NV     3.015534\n",
       "3           4  19.70001        NV     2.980619\n",
       "4           5  17.40000        NV     2.856470"
      ]
     },
     "execution_count": 18,
     "metadata": {},
     "output_type": "execute_result"
    }
   ],
   "source": [
    "stereogram_data = pd.read_csv('https://raw.githubusercontent.com/jasp-stats/jasp-desktop/development/Resources/Data%20Sets/Data%20Library/2.%20T-Tests/Stereograms.csv')\n",
    "stereogram_data.head()"
   ]
  },
  {
   "cell_type": "code",
   "execution_count": null,
   "id": "7afd4dfa",
   "metadata": {},
   "outputs": [],
   "source": []
  },
  {
   "cell_type": "code",
   "execution_count": null,
   "id": "7a6cab5c",
   "metadata": {},
   "outputs": [],
   "source": []
  }
 ],
 "metadata": {
  "kernelspec": {
   "display_name": "Python 3 (ipykernel)",
   "language": "python",
   "name": "python3"
  },
  "language_info": {
   "codemirror_mode": {
    "name": "ipython",
    "version": 3
   },
   "file_extension": ".py",
   "mimetype": "text/x-python",
   "name": "python",
   "nbconvert_exporter": "python",
   "pygments_lexer": "ipython3",
   "version": "3.9.6"
  }
 },
 "nbformat": 4,
 "nbformat_minor": 5
}
