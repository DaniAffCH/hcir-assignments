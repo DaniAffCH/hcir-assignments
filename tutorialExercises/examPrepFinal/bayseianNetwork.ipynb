{
 "cells": [
  {
   "cell_type": "code",
   "execution_count": null,
   "metadata": {},
   "outputs": [],
   "source": []
  },
  {
   "cell_type": "markdown",
   "metadata": {},
   "source": [
    "Explain the theory of mind. \n",
    "\n",
    "In the theory of mind is the ability to from representations about other's internal mental states such as though, feelings and beliefs.\n"
   ]
  },
  {
   "cell_type": "code",
   "execution_count": 3,
   "metadata": {},
   "outputs": [
    {
     "data": {
      "image/svg+xml": [
       "<svg xmlns=\"http://www.w3.org/2000/svg\" xmlns:xlink=\"http://www.w3.org/1999/xlink\" width=\"194pt\" height=\"188pt\" viewBox=\"0.00 0.00 194.28 188.00\">\n",
       "<g id=\"graph0\" class=\"graph\" transform=\"scale(1 1) rotate(0) translate(4 184)\">\n",
       "<title>G</title>\n",
       "<!-- feeling -->\n",
       "<g id=\"node1\" class=\"node\">\n",
       "<title>feeling</title>\n",
       "<g id=\"a_node1\"><a xlink:title=\"(3) feeling\">\n",
       "<ellipse fill=\"#404040\" stroke=\"black\" cx=\"36.51\" cy=\"-90\" rx=\"36.51\" ry=\"18\"/>\n",
       "<text text-anchor=\"middle\" x=\"36.51\" y=\"-84.95\" font-family=\"Times,serif\" font-size=\"14.00\" fill=\"white\">feeling</text>\n",
       "</a>\n",
       "</g>\n",
       "</g>\n",
       "<!-- room -->\n",
       "<g id=\"node3\" class=\"node\">\n",
       "<title>room</title>\n",
       "<g id=\"a_node3\"><a xlink:title=\"(2) room\">\n",
       "<ellipse fill=\"#404040\" stroke=\"black\" cx=\"87.51\" cy=\"-18\" rx=\"30.88\" ry=\"18\"/>\n",
       "<text text-anchor=\"middle\" x=\"87.51\" y=\"-12.95\" font-family=\"Times,serif\" font-size=\"14.00\" fill=\"white\">room</text>\n",
       "</a>\n",
       "</g>\n",
       "</g>\n",
       "<!-- feeling&#45;&gt;room -->\n",
       "<g id=\"edge2\" class=\"edge\">\n",
       "<title>feeling-&gt;room</title>\n",
       "<g id=\"a_edge2\"><a xlink:title=\"3 → 2\">\n",
       "<path fill=\"none\" stroke=\"#4a4a4a\" d=\"M48.34,-72.76C54.52,-64.28 62.22,-53.71 69.15,-44.2\"/>\n",
       "<polygon fill=\"#4a4a4a\" stroke=\"#4a4a4a\" points=\"71.79,-46.51 74.85,-36.37 66.14,-42.39 71.79,-46.51\"/>\n",
       "</a>\n",
       "</g>\n",
       "</g>\n",
       "<!-- is_hungry -->\n",
       "<g id=\"node2\" class=\"node\">\n",
       "<title>is_hungry</title>\n",
       "<g id=\"a_node2\"><a xlink:title=\"(0) is_hungry\">\n",
       "<ellipse fill=\"#404040\" stroke=\"black\" cx=\"138.51\" cy=\"-162\" rx=\"47.77\" ry=\"18\"/>\n",
       "<text text-anchor=\"middle\" x=\"138.51\" y=\"-156.95\" font-family=\"Times,serif\" font-size=\"14.00\" fill=\"white\">is_hungry</text>\n",
       "</a>\n",
       "</g>\n",
       "</g>\n",
       "<!-- eat_snack -->\n",
       "<g id=\"node4\" class=\"node\">\n",
       "<title>eat_snack</title>\n",
       "<g id=\"a_node4\"><a xlink:title=\"(1) eat_snack\">\n",
       "<ellipse fill=\"#404040\" stroke=\"black\" cx=\"138.51\" cy=\"-90\" rx=\"47.26\" ry=\"18\"/>\n",
       "<text text-anchor=\"middle\" x=\"138.51\" y=\"-84.95\" font-family=\"Times,serif\" font-size=\"14.00\" fill=\"white\">eat_snack</text>\n",
       "</a>\n",
       "</g>\n",
       "</g>\n",
       "<!-- is_hungry&#45;&gt;eat_snack -->\n",
       "<g id=\"edge1\" class=\"edge\">\n",
       "<title>is_hungry-&gt;eat_snack</title>\n",
       "<g id=\"a_edge1\"><a xlink:title=\"0 → 1\">\n",
       "<path fill=\"none\" stroke=\"#4a4a4a\" d=\"M138.51,-143.7C138.51,-136.41 138.51,-127.73 138.51,-119.54\"/>\n",
       "<polygon fill=\"#4a4a4a\" stroke=\"#4a4a4a\" points=\"142.01,-119.62 138.51,-109.62 135.01,-119.62 142.01,-119.62\"/>\n",
       "</a>\n",
       "</g>\n",
       "</g>\n",
       "<!-- eat_snack&#45;&gt;room -->\n",
       "<g id=\"edge3\" class=\"edge\">\n",
       "<title>eat_snack-&gt;room</title>\n",
       "<g id=\"a_edge3\"><a xlink:title=\"1 → 2\">\n",
       "<path fill=\"none\" stroke=\"#4a4a4a\" d=\"M126.42,-72.41C120.3,-64.01 112.74,-53.63 105.91,-44.26\"/>\n",
       "<polygon fill=\"#4a4a4a\" stroke=\"#4a4a4a\" points=\"108.77,-42.23 100.05,-36.21 103.11,-46.35 108.77,-42.23\"/>\n",
       "</a>\n",
       "</g>\n",
       "</g>\n",
       "</g>\n",
       "</svg>"
      ],
      "text/plain": [
       "<IPython.core.display.SVG object>"
      ]
     },
     "metadata": {},
     "output_type": "display_data"
    },
    {
     "name": "stdout",
     "output_type": "stream",
     "text": [
      "\n",
      "  room                       |\n",
      "Shower   |Room     |Kitchen  |\n",
      "---------|---------|---------|\n",
      " 0.3400  | 0.3400  | 0.3200  |\n",
      "\n"
     ]
    }
   ],
   "source": [
    "import pyAgrum as gum\n",
    "import pyAgrum.lib.notebook as gnb\n",
    "\n",
    "\n",
    "bn = gum.BayesNet('Theory of mind')\n",
    "\n",
    "hungry = bn.add(gum.LabelizedVariable('is_hungry', 'is_hungry', ['True', 'False']))\n",
    "eat_snack = bn.add(gum.LabelizedVariable('eat_snack', 'eat_snack', ['True', 'False']))\n",
    "room = bn.add(gum.LabelizedVariable('room', 'room', ['Shower', 'Room', 'Kitchen']))\n",
    "feeling = bn.add(gum.LabelizedVariable('feeling', 'feeling', ['Lazy', 'not_lazy']))\n",
    "\n",
    "bn.addArc(hungry, eat_snack)\n",
    "bn.addArc(eat_snack, room)\n",
    "bn.addArc(feeling, room)\n",
    "\n",
    "bn.cpt(hungry).fillWith([0.5, 0.5])\n",
    "bn.cpt(eat_snack)[{'is_hungry':'True'}] = [0.8, 0.2]\n",
    "bn.cpt(eat_snack)[{'is_hungry':'False'}] = [0.2,0.8]\n",
    "bn.cpt(feeling).fillWith([0.4, 0.6])\n",
    "bn.cpt(room)[{'feeling':'Lazy', 'eat_snack':'True'}] = [0.1, 0.7, 0.2]\n",
    "bn.cpt(room)[{'feeling':'Lazy', 'eat_snack':'False'}] = [0.1, 0.6, 0.3]\n",
    "bn.cpt(room)[{'feeling':'not_lazy', 'eat_snack':'True'}] = [0.5,0.1, 0.4]\n",
    "bn.cpt(room)[{'feeling':'not_lazy', 'eat_snack':'False'}] = [0.5,0.1, 0.4]\n",
    "\n",
    "gnb.show(bn)\n",
    "\n",
    "ie = gum.LazyPropagation(bn)\n",
    "ie.setEvidence({'is_hungry':'True', 'eat_snack':'True'})\n",
    "ie.makeInference()\n",
    "prob = ie.posterior(room)\n",
    "print(prob)\n"
   ]
  }
 ],
 "metadata": {
  "kernelspec": {
   "display_name": "Python 3",
   "language": "python",
   "name": "python3"
  },
  "language_info": {
   "codemirror_mode": {
    "name": "ipython",
    "version": 3
   },
   "file_extension": ".py",
   "mimetype": "text/x-python",
   "name": "python",
   "nbconvert_exporter": "python",
   "pygments_lexer": "ipython3",
   "version": "3.9.6"
  }
 },
 "nbformat": 4,
 "nbformat_minor": 2
}
