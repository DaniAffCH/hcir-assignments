{
 "cells": [
  {
   "cell_type": "code",
   "execution_count": 20,
   "metadata": {},
   "outputs": [],
   "source": [
    "import pyAgrum as gum\n",
    "import pyAgrum.lib.notebook as gnb"
   ]
  },
  {
   "cell_type": "code",
   "execution_count": 36,
   "metadata": {},
   "outputs": [
    {
     "data": {
      "image/svg+xml": [
       "<svg xmlns=\"http://www.w3.org/2000/svg\" xmlns:xlink=\"http://www.w3.org/1999/xlink\" width=\"342pt\" height=\"188pt\" viewBox=\"0.00 0.00 341.64 188.00\">\n",
       "<g id=\"graph0\" class=\"graph\" transform=\"scale(1 1) rotate(0) translate(4 184)\">\n",
       "<title>G</title>\n",
       "<!-- user_preference -->\n",
       "<g id=\"node1\" class=\"node\">\n",
       "<title>user_preference</title>\n",
       "<g id=\"a_node1\"><a xlink:title=\"(4) user_preference\">\n",
       "<ellipse fill=\"#404040\" stroke=\"black\" cx=\"69.78\" cy=\"-90\" rx=\"69.78\" ry=\"18\"/>\n",
       "<text text-anchor=\"middle\" x=\"69.78\" y=\"-84.95\" font-family=\"Times,serif\" font-size=\"14.00\" fill=\"white\">user_preference</text>\n",
       "</a>\n",
       "</g>\n",
       "</g>\n",
       "<!-- robot_revised_intent -->\n",
       "<g id=\"node5\" class=\"node\">\n",
       "<title>robot_revised_intent</title>\n",
       "<g id=\"a_node5\"><a xlink:title=\"(3) robot_revised_intent\">\n",
       "<ellipse fill=\"#404040\" stroke=\"black\" cx=\"141.78\" cy=\"-18\" rx=\"87.18\" ry=\"18\"/>\n",
       "<text text-anchor=\"middle\" x=\"141.78\" y=\"-12.95\" font-family=\"Times,serif\" font-size=\"14.00\" fill=\"white\">robot_revised_intent</text>\n",
       "</a>\n",
       "</g>\n",
       "</g>\n",
       "<!-- user_preference&#45;&gt;robot_revised_intent -->\n",
       "<g id=\"edge4\" class=\"edge\">\n",
       "<title>user_preference-&gt;robot_revised_intent</title>\n",
       "<g id=\"a_edge4\"><a xlink:title=\"4 → 3\">\n",
       "<path fill=\"none\" stroke=\"#4a4a4a\" d=\"M86.84,-72.41C95.59,-63.91 106.42,-53.37 116.15,-43.91\"/>\n",
       "<polygon fill=\"#4a4a4a\" stroke=\"#4a4a4a\" points=\"118.52,-46.49 123.25,-37.01 113.64,-41.47 118.52,-46.49\"/>\n",
       "</a>\n",
       "</g>\n",
       "</g>\n",
       "<!-- discourse_state -->\n",
       "<g id=\"node2\" class=\"node\">\n",
       "<title>discourse_state</title>\n",
       "<g id=\"a_node2\"><a xlink:title=\"(1) discourse_state\">\n",
       "<ellipse fill=\"#404040\" stroke=\"black\" cx=\"144.78\" cy=\"-162\" rx=\"67.22\" ry=\"18\"/>\n",
       "<text text-anchor=\"middle\" x=\"144.78\" y=\"-156.95\" font-family=\"Times,serif\" font-size=\"14.00\" fill=\"white\">discourse_state</text>\n",
       "</a>\n",
       "</g>\n",
       "</g>\n",
       "<!-- robot_intent -->\n",
       "<g id=\"node3\" class=\"node\">\n",
       "<title>robot_intent</title>\n",
       "<g id=\"a_node3\"><a xlink:title=\"(2) robot_intent\">\n",
       "<ellipse fill=\"#404040\" stroke=\"black\" cx=\"213.78\" cy=\"-90\" rx=\"55.96\" ry=\"18\"/>\n",
       "<text text-anchor=\"middle\" x=\"213.78\" y=\"-84.95\" font-family=\"Times,serif\" font-size=\"14.00\" fill=\"white\">robot_intent</text>\n",
       "</a>\n",
       "</g>\n",
       "</g>\n",
       "<!-- discourse_state&#45;&gt;robot_intent -->\n",
       "<g id=\"edge3\" class=\"edge\">\n",
       "<title>discourse_state-&gt;robot_intent</title>\n",
       "<g id=\"a_edge3\"><a xlink:title=\"1 → 2\">\n",
       "<path fill=\"none\" stroke=\"#4a4a4a\" d=\"M161.13,-144.41C169.64,-135.78 180.2,-125.06 189.63,-115.5\"/>\n",
       "<polygon fill=\"#4a4a4a\" stroke=\"#4a4a4a\" points=\"191.95,-118.13 196.48,-108.55 186.97,-113.21 191.95,-118.13\"/>\n",
       "</a>\n",
       "</g>\n",
       "</g>\n",
       "<!-- robot_intent&#45;&gt;robot_revised_intent -->\n",
       "<g id=\"edge1\" class=\"edge\">\n",
       "<title>robot_intent-&gt;robot_revised_intent</title>\n",
       "<g id=\"a_edge1\"><a xlink:title=\"2 → 3\">\n",
       "<path fill=\"none\" stroke=\"#4a4a4a\" d=\"M196.71,-72.41C187.97,-63.91 177.13,-53.37 167.4,-43.91\"/>\n",
       "<polygon fill=\"#4a4a4a\" stroke=\"#4a4a4a\" points=\"169.91,-41.47 160.3,-37.01 165.03,-46.49 169.91,-41.47\"/>\n",
       "</a>\n",
       "</g>\n",
       "</g>\n",
       "<!-- user_intent -->\n",
       "<g id=\"node4\" class=\"node\">\n",
       "<title>user_intent</title>\n",
       "<g id=\"a_node4\"><a xlink:title=\"(0) user_intent\">\n",
       "<ellipse fill=\"#404040\" stroke=\"black\" cx=\"281.78\" cy=\"-162\" rx=\"51.86\" ry=\"18\"/>\n",
       "<text text-anchor=\"middle\" x=\"281.78\" y=\"-156.95\" font-family=\"Times,serif\" font-size=\"14.00\" fill=\"white\">user_intent</text>\n",
       "</a>\n",
       "</g>\n",
       "</g>\n",
       "<!-- user_intent&#45;&gt;robot_intent -->\n",
       "<g id=\"edge2\" class=\"edge\">\n",
       "<title>user_intent-&gt;robot_intent</title>\n",
       "<g id=\"a_edge2\"><a xlink:title=\"0 → 2\">\n",
       "<path fill=\"none\" stroke=\"#4a4a4a\" d=\"M265.66,-144.41C257.28,-135.78 246.87,-125.06 237.57,-115.5\"/>\n",
       "<polygon fill=\"#4a4a4a\" stroke=\"#4a4a4a\" points=\"240.31,-113.29 230.83,-108.56 235.29,-118.17 240.31,-113.29\"/>\n",
       "</a>\n",
       "</g>\n",
       "</g>\n",
       "</g>\n",
       "</svg>"
      ],
      "text/plain": [
       "<IPython.core.display.SVG object>"
      ]
     },
     "metadata": {},
     "output_type": "display_data"
    }
   ],
   "source": [
    "bn = gum.BayesNet('Robot intent')\n",
    "user_intent = bn.add(gum.LabelizedVariable('user_intent', 'user_intent', ['info_r', 'opinion_expr']))\n",
    "discourse_state = bn.add(gum.LabelizedVariable('discourse_state', 'discours_state', ['prev_topic', 'new_topic']))\n",
    "robot_intent = bn.add(gum.LabelizedVariable('robot_intent', 'robot intent', ['acknowledge', 'provide_statement']))\n",
    "robot_revised_intent = bn.add(gum.LabelizedVariable('robot_revised_intent', 'robot_revised_intent', ['acknowledge_short', 'acknowledge_long', 'provide_statement_short','provide_statement_long']))\n",
    "user_preference = bn.add(gum.LabelizedVariable('user_preference', 'user preference', ['provide_statement_short','provide_statement_long']))\n",
    "bn.addArc(user_intent,robot_intent)\n",
    "bn.addArc(discourse_state, robot_intent)\n",
    "bn.addArc(robot_intent, robot_revised_intent)\n",
    "bn.addArc(user_preference, robot_revised_intent)\n",
    "gnb.showBN(bn, size ='30')"
   ]
  },
  {
   "cell_type": "code",
   "execution_count": 25,
   "metadata": {},
   "outputs": [
    {
     "data": {
      "text/html": [
       "<table style=\"border:1px solid black;\">\n",
       "<tr style='border:1px solid black;color:black;background-color:#808080'>\n",
       "      <th colspan='2'><center>user_intent</center></th></tr>\n",
       "<tr><th style='border:1px solid black;border-bottom-style: double;color:black;background-color:#BBBBBB'>\n",
       "      <center>info_r</center></th><th style='border:1px solid black;border-bottom-style: double;color:black;background-color:#BBBBBB'>\n",
       "      <center>opinion_expr</center></th></tr>\n",
       "<tr><td style='color:black;background-color:#d8a564;text-align:right;'>0.3000</td><td style='color:black;background-color:#a5d864;text-align:right;'>0.7000</td></tr>\n",
       "</table>"
      ],
      "text/plain": [
       "(pyAgrum.Potential<double>@0x12be5d710) \n",
       "  user_intent      |\n",
       "info_r   |opinion_e|\n",
       "---------|---------|\n",
       " 0.3000  | 0.7000  |"
      ]
     },
     "execution_count": 25,
     "metadata": {},
     "output_type": "execute_result"
    }
   ],
   "source": [
    "bn.cpt(user_intent).fillWith([0.3,0.7])"
   ]
  },
  {
   "cell_type": "code",
   "execution_count": 27,
   "metadata": {},
   "outputs": [
    {
     "data": {
      "text/html": [
       "<table style=\"border:1px solid black;\">\n",
       "<tr style='border:1px solid black;color:black;background-color:#808080'>\n",
       "      <th colspan='2'><center>discourse_state</center></th></tr>\n",
       "<tr><th style='border:1px solid black;border-bottom-style: double;color:black;background-color:#BBBBBB'>\n",
       "      <center>prev_topic</center></th><th style='border:1px solid black;border-bottom-style: double;color:black;background-color:#BBBBBB'>\n",
       "      <center>new_topic</center></th></tr>\n",
       "<tr><td style='color:black;background-color:#98e564;text-align:right;'>0.8000</td><td style='color:black;background-color:#e59864;text-align:right;'>0.2000</td></tr>\n",
       "</table>"
      ],
      "text/plain": [
       "(pyAgrum.Potential<double>@0x12be31960) \n",
       "  discourse_state  |\n",
       "prev_topi|new_topic|\n",
       "---------|---------|\n",
       " 0.8000  | 0.2000  |"
      ]
     },
     "execution_count": 27,
     "metadata": {},
     "output_type": "execute_result"
    }
   ],
   "source": [
    "bn.cpt(discourse_state).fillWith([0.8,0.2])"
   ]
  },
  {
   "cell_type": "code",
   "execution_count": null,
   "metadata": {},
   "outputs": [],
   "source": [
    "bn.cpt(robot_intent)[{'user_intent':'info_r', 'discours_state':'long'}] = [0.1,0.9,0.0,0.0]\n"
   ]
  },
  {
   "cell_type": "code",
   "execution_count": 39,
   "metadata": {},
   "outputs": [
    {
     "data": {
      "text/html": [
       "<table style=\"border:1px solid black;\">\n",
       "<tr><th colspan='2'></th>\n",
       "      <th colspan='4' style='border:1px solid black;color:black;background-color:#808080;'><center>robot_revised_intent</center>\n",
       "      </th></tr>\n",
       "<tr><th style='border:1px solid black;color:black;background-color:#808080'><center>user_preference</center></th><th style='border:1px solid black;color:black;background-color:#808080'><center>robot_intent</center></th><th style='border:1px solid black;border-bottom-style: double;color:black;background-color:#BBBBBB'>\n",
       "      <center>acknowledge_short</center></th><th style='border:1px solid black;border-bottom-style: double;color:black;background-color:#BBBBBB'>\n",
       "      <center>acknowledge_long</center></th><th style='border:1px solid black;border-bottom-style: double;color:black;background-color:#BBBBBB'>\n",
       "      <center>provide_statement_short</center></th><th style='border:1px solid black;border-bottom-style: double;color:black;background-color:#BBBBBB'>\n",
       "      <center>provide_statement_long</center></th></tr>\n",
       "<tr><th style='border:1px solid black;color:black;background-color:#BBBBBB;' rowspan = '2'>\n",
       "            <center>provide_statement_short</center></th><th style='border:1px solid black;color:black;background-color:#BBBBBB'><center>acknowledge</center></th><td style='color:black;background-color:#f28b64;text-align:right;'>0.1000</td><td style='color:black;background-color:#8bf264;text-align:right;'>0.9000</td><td style='color:black;background-color:#ff7f64;text-align:right;'>0.0000</td><td style='color:black;background-color:#ff7f64;text-align:right;'>0.0000</td></tr>\n",
       "<tr><th style='border:1px solid black;color:black;background-color:#BBBBBB'><center>provide_statement</center></th><td style='color:black;background-color:#ff7f64;text-align:right;'>0.0000</td><td style='color:black;background-color:#ff7f64;text-align:right;'>0.0000</td><td style='color:black;background-color:#f28b64;text-align:right;'>0.1000</td><td style='color:black;background-color:#8bf264;text-align:right;'>0.9000</td></tr>\n",
       "<tr><th style='border:1px solid black;color:black;background-color:#BBBBBB;' rowspan = '2'>\n",
       "            <center>provide_statement_long</center></th><th style='border:1px solid black;color:black;background-color:#BBBBBB'><center>acknowledge</center></th><td style='color:black;background-color:#ff7f64;text-align:right;'>0.0000</td><td style='color:black;background-color:#ff7f64;text-align:right;'>0.0000</td><td style='color:black;background-color:#8bf264;text-align:right;'>0.9000</td><td style='color:black;background-color:#f28b64;text-align:right;'>0.1000</td></tr>\n",
       "<tr><th style='border:1px solid black;color:black;background-color:#BBBBBB'><center>provide_statement</center></th><td style='color:black;background-color:#8bf264;text-align:right;'>0.9000</td><td style='color:black;background-color:#f28b64;text-align:right;'>0.1000</td><td style='color:black;background-color:#ff7f64;text-align:right;'>0.0000</td><td style='color:black;background-color:#ff7f64;text-align:right;'>0.0000</td></tr>\n",
       "</table>"
      ],
      "text/plain": [
       "(pyAgrum.Potential<double>@0x13c3a6970) \n",
       "             ||  robot_revised_intent                 |\n",
       "robot_|user_p||acknowled|acknowled|provide_s|provide_s|\n",
       "------|------||---------|---------|---------|---------|\n",
       "acknow|provid|| 0.1000  | 0.9000  | 0.0000  | 0.0000  |\n",
       "provid|provid|| 0.0000  | 0.0000  | 0.1000  | 0.9000  |\n",
       "acknow|provid|| 0.0000  | 0.0000  | 0.9000  | 0.1000  |\n",
       "provid|provid|| 0.9000  | 0.1000  | 0.0000  | 0.0000  |"
      ]
     },
     "execution_count": 39,
     "metadata": {},
     "output_type": "execute_result"
    }
   ],
   "source": [
    "bn.cpt(robot_revised_intent)[{'robot_intent':'acknowledge', 'user_preference':'provide_statement_short'}] = [0.1,0.9,0.0,0.0]\n",
    "bn.cpt(robot_revised_intent)[{'robot_intent':'acknowledge', 'user_preference':'provide_statement_long'}] = [0.0,0.0,0.9,0.1]\n",
    "bn.cpt(robot_revised_intent)[{'robot_intent':'provide_statement', 'user_preference':'provide_statement_long'}] = [0.9,0.1,0.0,0.0]\n",
    "bn.cpt(robot_revised_intent)[{'robot_intent':'provide_statement', 'user_preference':'provide_statement_short'}] = [0.0,0.0,0.1,0.9]\n",
    "bn.cpt(robot_revised_intent)"
   ]
  }
 ],
 "metadata": {
  "kernelspec": {
   "display_name": "Python 3",
   "language": "python",
   "name": "python3"
  },
  "language_info": {
   "codemirror_mode": {
    "name": "ipython",
    "version": 3
   },
   "file_extension": ".py",
   "mimetype": "text/x-python",
   "name": "python",
   "nbconvert_exporter": "python",
   "pygments_lexer": "ipython3",
   "version": "3.11.7"
  }
 },
 "nbformat": 4,
 "nbformat_minor": 2
}
