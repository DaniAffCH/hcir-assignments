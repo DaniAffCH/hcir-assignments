{
 "cells": [
  {
   "cell_type": "code",
   "execution_count": 1,
   "metadata": {},
   "outputs": [],
   "source": [
    "from __future__ import print_function, division\n",
    "\n",
    "import torch\n",
    "import torch.nn as nn\n",
    "import torch.optim as optim\n",
    "from torch.optim import lr_scheduler\n",
    "import numpy as np\n",
    "from torchvision import datasets, transforms\n",
    "import matplotlib.pyplot as plt\n",
    "from collections import Counter\n",
    "\n",
    "import copy\n",
    "from facenet_pytorch import InceptionResnetV1"
   ]
  },
  {
   "cell_type": "code",
   "execution_count": 11,
   "metadata": {},
   "outputs": [
    {
     "name": "stdout",
     "output_type": "stream",
     "text": [
      "Using cuda\n",
      "['daniele_positive', 'klara_positive', 'negatives']\n"
     ]
    }
   ],
   "source": [
    "plt.ion()   # interactive mode\n",
    "\n",
    "data_transforms = transforms.Compose([\n",
    "        transforms.RandomResizedCrop(299),\n",
    "        #transforms.RandomHorizontalFlip(),\n",
    "        transforms.ToTensor(),\n",
    "        transforms.Normalize([0.485, 0.456, 0.406], [0.229, 0.224, 0.225])\n",
    "    ])\n",
    "\n",
    "data_dir = 'data'\n",
    "image_datasets = datasets.ImageFolder(data_dir,data_transforms)\n",
    "\n",
    "dataloaders = torch.utils.data.DataLoader(image_datasets, batch_size=16, shuffle=True, num_workers=4)\n",
    "dataset_sizes = len(image_datasets) \n",
    "\n",
    "class_names = image_datasets.classes\n",
    "\n",
    "device = torch.device(\"cuda\" if torch.cuda.is_available() else \"cpu\")\n",
    "\n",
    "print(\"Using \" + str(device))\n"
   ]
  },
  {
   "cell_type": "code",
   "execution_count": 3,
   "metadata": {},
   "outputs": [
    {
     "data": {
      "image/png": "[encoded data removed]",
      "text/plain": [
       "<Figure size 640x480 with 1 Axes>"
      ]
     },
     "metadata": {},
     "output_type": "display_data"
    }
   ],
   "source": [
    "data = dict(Counter(image_datasets.targets))\n",
    "\n",
    "names = list(image_datasets.classes)\n",
    "values = list(data.values())\n",
    "\n",
    "plt.bar(range(len(data)), values, tick_label=names)\n",
    "plt.show()"
   ]
  },
  {
   "cell_type": "code",
   "execution_count": 4,
   "metadata": {},
   "outputs": [
    {
     "data": {
      "text/plain": [
       "torch.Size([16, 3, 299, 299])"
      ]
     },
     "execution_count": 4,
     "metadata": {},
     "output_type": "execute_result"
    }
   ],
   "source": [
    "next(iter(dataloaders))[0].shape"
   ]
  },
  {
   "cell_type": "code",
   "execution_count": 5,
   "metadata": {},
   "outputs": [],
   "source": [
    "def imshow(inp, title=None):\n",
    "    \"\"\"Imshow for Tensor.\"\"\"\n",
    "    inp  = inp.numpy().transpose((1, 2, 0))\n",
    "    mean = np.array([0.485, 0.456, 0.406])\n",
    "    std  = np.array([0.229, 0.224, 0.225])\n",
    "    inp  = std * inp + mean\n",
    "    inp  = np.clip(inp, 0, 1)\n",
    "    plt.imshow(inp)\n",
    "    if title is not None:\n",
    "        plt.title(title)\n",
    "    plt.pause(5)  # pause a bit so that plots are updated\n",
    "\n",
    "def train_model(model, criterion, optimizer, scheduler, num_epochs=25):\n",
    "\n",
    "    best_model_wts = copy.deepcopy(model.state_dict())\n",
    "    best_acc = 0.0\n",
    "    model.train()\n",
    "    model = model.to(device)\n",
    "\n",
    "    for epoch in range(num_epochs):\n",
    "        print('Epoch {}/{}'.format(epoch, num_epochs - 1))\n",
    "        print('-' * 10)\n",
    "\n",
    "        running_loss = 0.0\n",
    "        running_accuracy = 0.0\n",
    "\n",
    "        for inputs, labels in dataloaders:\n",
    "\n",
    "            inputs = inputs.to(device)\n",
    "            labels = labels.to(device)\n",
    "\n",
    "            optimizer.zero_grad()\n",
    "            outputs = model(inputs)\n",
    "\n",
    "            loss = criterion(outputs, labels)\n",
    "            loss.backward()\n",
    "            optimizer.step()\n",
    "\n",
    "            scheduler.step()\n",
    "\n",
    "            loss = loss.item() # detach gradient\n",
    "\n",
    "            preds = torch.argmax(outputs, dim=1) \n",
    "            corrects = torch.sum(preds == labels)\n",
    "\n",
    "            running_accuracy += corrects\n",
    "            running_loss += loss\n",
    "\n",
    "        running_loss /= dataset_sizes\n",
    "        running_accuracy /= dataset_sizes\n",
    "        print(f\"loss = {running_loss} accuracy = {running_accuracy}\")\n",
    "\n",
    "        if running_accuracy > best_acc:\n",
    "            best_acc = running_accuracy\n",
    "            best_model_wts = copy.deepcopy(model.state_dict())\n",
    "\n",
    "        print()\n",
    "\n",
    "    print('Best val Acc: {:4f}'.format(best_acc))\n",
    "\n",
    "    # load best model weights\n",
    "    model.load_state_dict(best_model_wts)\n",
    "    return model\n"
   ]
  },
  {
   "cell_type": "code",
   "execution_count": 6,
   "metadata": {},
   "outputs": [
    {
     "name": "stdout",
     "output_type": "stream",
     "text": [
      "Epoch 0/19\n",
      "----------\n",
      "loss = 0.03952759504318237 accuracy = 0.7588582634925842\n",
      "\n",
      "Epoch 1/19\n",
      "----------\n",
      "loss = 0.03593164418758018 accuracy = 0.7913385629653931\n",
      "\n",
      "Epoch 2/19\n",
      "----------\n",
      "loss = 0.036608382707505716 accuracy = 0.7726377844810486\n",
      "\n",
      "Epoch 3/19\n",
      "----------\n",
      "loss = 0.035883671846094096 accuracy = 0.7962598204612732\n",
      "\n",
      "Epoch 4/19\n",
      "----------\n",
      "loss = 0.035817381962547155 accuracy = 0.7765747904777527\n",
      "\n",
      "Epoch 5/19\n",
      "----------\n",
      "loss = 0.030989433602085264 accuracy = 0.7972440719604492\n",
      "\n",
      "Epoch 6/19\n",
      "----------\n",
      "loss = 0.03394229818634161 accuracy = 0.7913385629653931\n",
      "\n",
      "Epoch 7/19\n",
      "----------\n",
      "loss = 0.03585609739396985 accuracy = 0.7805117964744568\n",
      "\n",
      "Epoch 8/19\n",
      "----------\n",
      "loss = 0.032051577709439234 accuracy = 0.8169291019439697\n",
      "\n",
      "Epoch 9/19\n",
      "----------\n",
      "loss = 0.03542209250896465 accuracy = 0.7795275449752808\n",
      "\n",
      "Epoch 10/19\n",
      "----------\n",
      "loss = 0.035896394636452666 accuracy = 0.7923228144645691\n",
      "\n",
      "Epoch 11/19\n",
      "----------\n",
      "loss = 0.035166998122503436 accuracy = 0.7706692814826965\n",
      "\n",
      "Epoch 12/19\n",
      "----------\n",
      "loss = 0.03351351978095967 accuracy = 0.7913385629653931\n",
      "\n",
      "Epoch 13/19\n",
      "----------\n",
      "loss = 0.03257378976880096 accuracy = 0.7942913174629211\n",
      "\n",
      "Epoch 14/19\n",
      "----------\n",
      "loss = 0.03520620290160648 accuracy = 0.7992125749588013\n",
      "\n",
      "Epoch 15/19\n",
      "----------\n",
      "loss = 0.034285921926104176 accuracy = 0.7942913174629211\n",
      "\n",
      "Epoch 16/19\n",
      "----------\n",
      "loss = 0.034396455615876224 accuracy = 0.8011810779571533\n",
      "\n",
      "Epoch 17/19\n",
      "----------\n",
      "loss = 0.034600362247662754 accuracy = 0.7755905389785767\n",
      "\n",
      "Epoch 18/19\n",
      "----------\n",
      "loss = 0.03550837560021502 accuracy = 0.7795275449752808\n",
      "\n",
      "Epoch 19/19\n",
      "----------\n",
      "loss = 0.03422939164314683 accuracy = 0.7962598204612732\n",
      "\n",
      "Best val Acc: 0.816929\n",
      "Saving model trained_model.pt\n"
     ]
    }
   ],
   "source": [
    "model_ft = InceptionResnetV1(pretrained='vggface2', device=device, classify= True, num_classes=3).to(device)\n",
    "\n",
    "criterion = nn.CrossEntropyLoss()\n",
    "\n",
    "optimizer_ft = optim.SGD(model_ft.parameters(), lr=0.01, momentum=0.9)\n",
    "\n",
    "exp_lr_scheduler = lr_scheduler.StepLR(optimizer_ft, step_size=7, gamma=0.1)\n",
    "\n",
    "model_ft = train_model(model_ft, criterion, optimizer_ft, exp_lr_scheduler,\n",
    "                       num_epochs=20)\n",
    "\n",
    "model_path = \"trained_model.pt\"\n",
    "print(\"Saving model \"+model_path)\n",
    "torch.save(model_ft.state_dict(), model_path)"
   ]
  },
  {
   "cell_type": "code",
   "execution_count": 10,
   "metadata": {},
   "outputs": [
    {
     "name": "stdout",
     "output_type": "stream",
     "text": [
      "Error reading frame from video capture.\n"
     ]
    },
    {
     "name": "stderr",
     "output_type": "stream",
     "text": [
      "[ WARN:0@1479.861] global cap_v4l.cpp:982 open VIDEOIO(V4L2:/dev/video0): can't open camera by index\n",
      "[ERROR:0@1479.862] global obsensor_uvc_stream_channel.cpp:156 getStreamChannelGroup Camera index out of range\n"
     ]
    }
   ],
   "source": [
    "import cv2\n",
    "from PIL import Image\n",
    "\n",
    "checkpoint = torch.load('trained_model.pt')\n",
    "model_ft.load_state_dict(checkpoint)\n",
    "\n",
    "vc = cv2.VideoCapture(0)\n",
    "model_ft.eval()\n",
    "while True:\n",
    "    ret, frame = vc.read()\n",
    "    if not ret:\n",
    "        print(\"Error reading frame from video capture.\")\n",
    "        break\n",
    "    pil_image = Image.fromarray(cv2.cvtColor(frame, cv2.COLOR_BGR2RGB))\n",
    "    frame = data_transforms(pil_image).unsqueeze(0).to(device)\n",
    "    res = model_ft(frame)\n",
    "    m = torch.argmax(res.detach())\n",
    "    print(class_names[m])"
   ]
  }
 ],
 "metadata": {
  "kernelspec": {
   "display_name": "Python 3",
   "language": "python",
   "name": "python3"
  },
  "language_info": {
   "codemirror_mode": {
    "name": "ipython",
    "version": 3
   },
   "file_extension": ".py",
   "mimetype": "text/x-python",
   "name": "python",
   "nbconvert_exporter": "python",
   "pygments_lexer": "ipython3",
   "version": "3.10.12"
  }
 },
 "nbformat": 4,
 "nbformat_minor": 2
}
