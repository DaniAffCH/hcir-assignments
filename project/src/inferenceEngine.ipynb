{
 "cells": [
  {
   "cell_type": "code",
   "execution_count": 12,
   "metadata": {},
   "outputs": [
    {
     "ename": "Exception",
     "evalue": "[pyAgrum] Several evidence/CPT are incompatible together (proba=0): some evidence entered into the Bayes net are incompatible (their joint proba = 0)",
     "output_type": "error",
     "traceback": [
      "\u001b[0;31m---------------------------------------------------------------------------\u001b[0m",
      "\u001b[0;31mException\u001b[0m                                 Traceback (most recent call last)",
      "\u001b[0;32m/var/folders/1g/45plpr0s2b992tbp6xn0sy8h0000gn/T/ipykernel_15435/118195652.py\u001b[0m in \u001b[0;36m?\u001b[0;34m()\u001b[0m\n\u001b[0;32m---> 74\u001b[0;31m \u001b[0;32mimport\u001b[0m \u001b[0mpyAgrum\u001b[0m \u001b[0;32mas\u001b[0m \u001b[0mgum\u001b[0m\u001b[0;34m\u001b[0m\u001b[0;34m\u001b[0m\u001b[0m\n\u001b[0m\u001b[1;32m     75\u001b[0m \u001b[0;32mimport\u001b[0m \u001b[0mpyAgrum\u001b[0m\u001b[0;34m.\u001b[0m\u001b[0mlib\u001b[0m\u001b[0;34m.\u001b[0m\u001b[0mnotebook\u001b[0m \u001b[0;32mas\u001b[0m \u001b[0mgnb\u001b[0m\u001b[0;34m\u001b[0m\u001b[0;34m\u001b[0m\u001b[0m\n\u001b[1;32m     76\u001b[0m \u001b[0;32mfrom\u001b[0m \u001b[0mdorms\u001b[0m \u001b[0;32mimport\u001b[0m \u001b[0mDorms\u001b[0m\u001b[0;34m\u001b[0m\u001b[0;34m\u001b[0m\u001b[0m\n\u001b[1;32m     77\u001b[0m \u001b[0;34m\u001b[0m\u001b[0m\n",
      "\u001b[0;32m/var/folders/1g/45plpr0s2b992tbp6xn0sy8h0000gn/T/ipykernel_15435/118195652.py\u001b[0m in \u001b[0;36m?\u001b[0;34m(self, limited_budget, pay_more_for_own_flat, shared_common_space, uni_location)\u001b[0m\n\u001b[1;32m     67\u001b[0m     \u001b[0;32mdef\u001b[0m \u001b[0minference\u001b[0m\u001b[0;34m(\u001b[0m\u001b[0mself\u001b[0m\u001b[0;34m,\u001b[0m \u001b[0mlimited_budget\u001b[0m\u001b[0;34m:\u001b[0m \u001b[0mstr\u001b[0m\u001b[0;34m,\u001b[0m \u001b[0mpay_more_for_own_flat\u001b[0m\u001b[0;34m:\u001b[0m \u001b[0mstr\u001b[0m\u001b[0;34m,\u001b[0m \u001b[0mshared_common_space\u001b[0m\u001b[0;34m:\u001b[0m \u001b[0mstr\u001b[0m\u001b[0;34m,\u001b[0m \u001b[0muni_location\u001b[0m\u001b[0;34m:\u001b[0m\u001b[0mstr\u001b[0m\u001b[0;34m)\u001b[0m\u001b[0;34m:\u001b[0m\u001b[0;34m\u001b[0m\u001b[0;34m\u001b[0m\u001b[0m\n\u001b[1;32m     68\u001b[0m         \u001b[0mself\u001b[0m\u001b[0;34m.\u001b[0m\u001b[0mie\u001b[0m\u001b[0;34m.\u001b[0m\u001b[0msetEvidence\u001b[0m\u001b[0;34m(\u001b[0m\u001b[0;34m{\u001b[0m\u001b[0;34m'shared_common_space'\u001b[0m\u001b[0;34m:\u001b[0m \u001b[0;34m'True'\u001b[0m\u001b[0;34m}\u001b[0m\u001b[0;34m)\u001b[0m \u001b[0;31m#, 'pay_more_for_own_flat': pay_more_for_own_flat, 'shared_common_space': shared_common_space, 'uni_location': uni_location})\u001b[0m\u001b[0;34m\u001b[0m\u001b[0;34m\u001b[0m\u001b[0m\n\u001b[1;32m     69\u001b[0m         \u001b[0mself\u001b[0m\u001b[0;34m.\u001b[0m\u001b[0mie\u001b[0m\u001b[0;34m.\u001b[0m\u001b[0mmakeInference\u001b[0m\u001b[0;34m(\u001b[0m\u001b[0;34m)\u001b[0m\u001b[0;34m\u001b[0m\u001b[0;34m\u001b[0m\u001b[0m\n\u001b[1;32m     70\u001b[0m         \u001b[0;31m#self.ie.posterior(self.student_dorm)\u001b[0m\u001b[0;34m\u001b[0m\u001b[0;34m\u001b[0m\u001b[0;34m\u001b[0m\u001b[0m\n\u001b[0;32m---> 71\u001b[0;31m         \u001b[0mprint\u001b[0m\u001b[0;34m(\u001b[0m\u001b[0mself\u001b[0m\u001b[0;34m.\u001b[0m\u001b[0mie\u001b[0m\u001b[0;34m.\u001b[0m\u001b[0mposterior\u001b[0m\u001b[0;34m(\u001b[0m\u001b[0mself\u001b[0m\u001b[0;34m.\u001b[0m\u001b[0mis_social\u001b[0m\u001b[0;34m)\u001b[0m\u001b[0;34m)\u001b[0m\u001b[0;34m\u001b[0m\u001b[0;34m\u001b[0m\u001b[0m\n\u001b[0m",
      "\u001b[0;32m/Library/Frameworks/Python.framework/Versions/3.8/lib/python3.8/site-packages/pyAgrum/pyAgrum.py\u001b[0m in \u001b[0;36m?\u001b[0;34m(self, *args)\u001b[0m\n\u001b[1;32m  14394\u001b[0m         \u001b[0mpyAgrum\u001b[0m\u001b[0;34m.\u001b[0m\u001b[0mUndefinedElement\u001b[0m\u001b[0;34m\u001b[0m\u001b[0;34m\u001b[0m\u001b[0m\n\u001b[1;32m  14395\u001b[0m           \u001b[0mIf\u001b[0m \u001b[0man\u001b[0m \u001b[0melement\u001b[0m \u001b[0mof\u001b[0m \u001b[0mnodes\u001b[0m \u001b[0;32mis\u001b[0m \u001b[0;32mnot\u001b[0m \u001b[0;32min\u001b[0m \u001b[0mtargets\u001b[0m\u001b[0;34m\u001b[0m\u001b[0;34m\u001b[0m\u001b[0m\n\u001b[1;32m  14396\u001b[0m \u001b[0;34m\u001b[0m\u001b[0m\n\u001b[1;32m  14397\u001b[0m         \"\"\"\n\u001b[0;32m> 14398\u001b[0;31m         \u001b[0;32mreturn\u001b[0m \u001b[0m_pyAgrum\u001b[0m\u001b[0;34m.\u001b[0m\u001b[0mLazyPropagation_posterior\u001b[0m\u001b[0;34m(\u001b[0m\u001b[0mself\u001b[0m\u001b[0;34m,\u001b[0m \u001b[0;34m*\u001b[0m\u001b[0margs\u001b[0m\u001b[0;34m)\u001b[0m\u001b[0;34m\u001b[0m\u001b[0;34m\u001b[0m\u001b[0m\n\u001b[0m",
      "\u001b[0;31mException\u001b[0m: [pyAgrum] Several evidence/CPT are incompatible together (proba=0): some evidence entered into the Bayes net are incompatible (their joint proba = 0)"
     ]
    }
   ],
   "source": [
    "import pyAgrum as gum\n",
    "import pyAgrum.lib.notebook as gnb\n",
    "from dorms import Dorms\n",
    "\n",
    "class inferenceEngine:\n",
    "    \n",
    "    def __init__(self): \n",
    "        bn = gum.BayesNet('Student Dorms')\n",
    "        dorm_1 = Dorms(\"1\", \"Bismarkstrasse 4\", \"Bonn\", \"46 Single room in shared flat, 8 Double-Apartments\", \"Single room: 289,00 - 436,00 euros, Double-Apartement: 507,00 - 812,00 euros\")\n",
    "        dorm_2 = Dorms(\"2\", \"Drussusstrasse 17\", \"Bonn\", \"73 Apartements\", \"245,00 - 642,00 euros\")\n",
    "        dorm_3 = Dorms(\"3\", \"Europaring 2\", \"Sankt Augustin\", \"49 Apartements\", \"346,00 - 493,00 euros\")\n",
    "        dorm_4 = Dorms(\"4\", \"StuHaus\", \"Sankt Augustin\", \"106 Double/Shared Apartments, 60 Single-Apartments\", \"Double Apartment: 395 - 413 euros Single Apartment: 493 - 496 euros\")\n",
    "        dorm_5 = Dorms(\"5\", \"Keramikerstrasse 38\", \"Rheinbach\", \"30 Apartments \", \"336,00 - 472,00 euros\")\n",
    "        dorm_6 = Dorms(\"6\", \"Wg_gesucht\", \"Rheinbach\", \"Single room in shared flat\", \"400 - 500 euros\" )\n",
    "\n",
    "        limited_budget = bn.add(gum.LabelizedVariable('limited_budget', 'Limited Budget', ['True', 'False']))\n",
    "        pay_more_for_own_flat = bn.add(gum.LabelizedVariable('pay_more_for_own_flat', 'Pay more for own flat', ['True', 'False']))\n",
    "        shared_common_space = bn.add(gum.LabelizedVariable('shared_common_space', 'Shared Common Space', ['True', 'False']))\n",
    "        uni_location = bn.add(gum.LabelizedVariable('uni_location', 'University location', ['Uni Bonn','HBRS Sankt Augustin','HBRS Rheinbach']))\n",
    "        expensive = bn.add(gum.LabelizedVariable('expensive', 'Expensive', ['True', 'False']))\n",
    "        loc_pref = bn.add(gum.LabelizedVariable('loacation_preference', 'Location Preference', ['Bonn', 'Sankt Augustin', 'Rheinbach']))\n",
    "        is_social = bn.add(gum.LabelizedVariable('is_social', 'Is Social', ['True', 'False']))\n",
    "        student_dorm = bn.add(gum.LabelizedVariable('student_dorm', 'Student Dorm', ['Bismarkstrasse', 'Drussusstrasse', 'Europaring', 'StuHaus', 'Keramikerstrasse', 'Wg_gesucht']))\n",
    "        self.student_dorm = student_dorm\n",
    "\n",
    "        bn.addArc(limited_budget,expensive)\n",
    "        bn.addArc(pay_more_for_own_flat,expensive)\n",
    "        bn.addArc(pay_more_for_own_flat,is_social)\n",
    "        bn.addArc(shared_common_space,is_social)\n",
    "        bn.addArc(uni_location,loc_pref)\n",
    "        bn.addArc(is_social,loc_pref)\n",
    "        bn.addArc(expensive,loc_pref)\n",
    "        bn.addArc(loc_pref,student_dorm)\n",
    "        bn.addArc(expensive,student_dorm)\n",
    "        bn.addArc(is_social,student_dorm)\n",
    "\n",
    "        bn.cpt(limited_budget).fillWith([0.8,0.2])\n",
    "        bn.cpt(pay_more_for_own_flat).fillWith([0.7,0.3])\n",
    "        bn.cpt(shared_common_space).fillWith([0.5,0.5])\n",
    "        bn.cpt(uni_location).fillWith([0.333, 0.333, 0.334])\n",
    "\n",
    "        bn.cpt(expensive)[{\"limited_budget\": \"True\", \"pay_more_for_own_flat\": \"True\"}] = [0.5, 0.5]\n",
    "        bn.cpt(expensive)[{\"limited_budget\": \"False\", \"pay_more_for_own_flat\": \"False\"}] = [0.1, 0.9]    \n",
    "        bn.cpt(expensive)[{\"limited_budget\": \"False\", \"pay_more_for_own_flat\": \"True\"}] = [0.9, 0.1]\n",
    "        bn.cpt(expensive)[{\"limited_budget\": \"True\", \"pay_more_for_own_flat\": \"False\"}] = [0.1, 0.9]\n",
    "\n",
    "        bn.cpt(is_social)[{\"pay_more_for_own_flat\": \"True\", \"shared_common_space\": \"True\"}] = [0.5, 0.5]\n",
    "        bn.cpt(is_social)[{\"pay_more_for_own_flat\": \"False\", \"shared_common_space\": \"False\"}] = [0.2, 0.8]\n",
    "        bn.cpt(is_social)[{\"pay_more_for_own_flat\": \"True\", \"shared_common_space\": \"False\"}] = [0.9, 0.1]\n",
    "        bn.cpt(is_social)[{\"pay_more_for_own_flat\": \"False\", \"shared_common_space\": \"True\"}] = [0.1, 0.9]\n",
    "\n",
    "        bn.cpt(loc_pref)[{\"expensive\": \"True\",\"uni_location\": \"Uni Bonn\", \"is_social\": \"True\"}] = [0.8, 0.1, 0.1]\n",
    "        bn.cpt(loc_pref)[{\"expensive\": \"False\",\"uni_location\": \"HBRS Sankt Augustin\", \"is_social\": \"False\"}] = [0.1, 0.1, 0.8]\n",
    "        bn.cpt(loc_pref)[{\"expensive\": \"True\",\"uni_location\": \"HBRS Rheinbach\", \"is_social\": \"True\"}] = [0.1, 0.1, 0.8]\n",
    "        bn.cpt(loc_pref)[{\"expensive\": \"False\",\"uni_location\": \"Uni Bonn\", \"is_social\": \"False\"}] = [0.1, 0.8, 0.1]\n",
    "        bn.cpt(loc_pref)[{\"expensive\": \"True\",\"uni_location\": \"HBRS Sankt Augustin\", \"is_social\": \"True\"}] = [0.1, 0.8, 0.1]\n",
    "        bn.cpt(loc_pref)[{\"expensive\": \"False\",\"uni_location\": \"HBRS Rheinbach\", \"is_social\": \"False\"}] = [0.8, 0.1, 0.1]\n",
    "        bn.cpt(loc_pref)[{\"expensive\": \"False\",\"uni_location\": \"Uni Bonn\", \"is_social\": \"True\"}] = [0.8, 0.1, 0.1]\n",
    "        bn.cpt(loc_pref)[{\"expensive\": \"True\",\"uni_location\": \"HBRS Sankt Augustin\", \"is_social\": \"False\"}] = [0.1, 0.1, 0.8]\n",
    "        bn.cpt(loc_pref)[{\"expensive\": \"True\",\"uni_location\": \"HBRS Rheinbach\", \"is_social\": \"False\"}] = [0.8, 0.1, 0.1]\n",
    "        bn.cpt(loc_pref)[{\"expensive\": \"True\",\"uni_location\": \"Uni Bonn\", \"is_social\": \"False\"}] = [0.1, 0.8, 0.1]\n",
    "        bn.cpt(loc_pref)[{\"expensive\": \"False\",\"uni_location\": \"HBRS Sankt Augustin\", \"is_social\": \"True\"}] = [0.1, 0.8, 0.1]\n",
    "        bn.cpt(loc_pref)[{\"expensive\": \"False\",\"uni_location\": \"HBRS Rheinbach\", \"is_social\": \"True\"}] = [0.1, 0.1, 0.8]\n",
    "        self.ie = gum.LazyPropagation(bn)\n",
    "\n",
    "    def inference(self, limited_budget: str, pay_more_for_own_flat: str, shared_common_space: str, uni_location:str):\n",
    "        self.ie.setEvidence({'shared_common_space': 'True'}) #, 'pay_more_for_own_flat': pay_more_for_own_flat, 'shared_common_space': shared_common_space, 'uni_location': uni_location})\n",
    "        self.ie.makeInference()\n",
    "        #self.ie.posterior(self.student_dorm)\n",
    "        print(self.ie.posterior(self.student_dorm))\n",
    "\n",
    "iengine = inferenceEngine()\n",
    "iengine.inference('True', 'True', 'True', 'Uni Bonn')\n"
   ]
  },
  {
   "cell_type": "code",
   "execution_count": null,
   "metadata": {},
   "outputs": [],
   "source": []
  }
 ],
 "metadata": {
  "kernelspec": {
   "display_name": "Python 3",
   "language": "python",
   "name": "python3"
  },
  "language_info": {
   "codemirror_mode": {
    "name": "ipython",
    "version": 3
   },
   "file_extension": ".py",
   "mimetype": "text/x-python",
   "name": "python",
   "nbconvert_exporter": "python",
   "pygments_lexer": "ipython3",
   "version": "3.8.10"
  }
 },
 "nbformat": 4,
 "nbformat_minor": 2
}
