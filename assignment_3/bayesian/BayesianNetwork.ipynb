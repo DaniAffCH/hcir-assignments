{
 "cells": [
  {
   "cell_type": "code",
   "execution_count": 53,
   "metadata": {},
   "outputs": [],
   "source": [
    "import pyAgrum as gum\n",
    "import pyAgrum.lib.notebook as gnb\n",
    "\n",
    "\n",
    "bn = gum.BayesNet('Appropriate Robot Intent')\n",
    "\n",
    "user_intent = bn.add(gum.LabelizedVariable('user_intent', 'User Intent', ['information_request', 'opinion_expression']))\n",
    "discourse_state = bn.add(gum.LabelizedVariable('discourse_state', 'Discourse State', ['previous_topic', 'new_topic']))\n",
    "user_preference = bn.add(gum.LabelizedVariable('user_preference', 'User Preference', ['long_statements', 'short_statements']))\n",
    "robot_intent = bn.add(gum.LabelizedVariable('robot_intent', 'Robot Intent', ['acknowledge', 'provide_statement']))\n",
    "robot_revised_intent = bn.add(gum.LabelizedVariable('robot_revised_intent', 'Robot Revised Intent', ['acknowledge_short','acknowledge_long','provide_statement_short','provide_statement_long']))\n",
    "\n",
    "bn.addArc(user_intent,robot_intent)\n",
    "bn.addArc(discourse_state,robot_intent)\n",
    "bn.addArc(user_preference,robot_revised_intent)\n",
    "bn.addArc(robot_intent,robot_revised_intent)"
   ]
  },
  {
   "cell_type": "code",
   "execution_count": 54,
   "metadata": {},
   "outputs": [
    {
     "data": {
      "image/svg+xml": [
       "<svg xmlns=\"http://www.w3.org/2000/svg\" xmlns:xlink=\"http://www.w3.org/1999/xlink\" width=\"410pt\" height=\"188pt\" viewBox=\"0.00 0.00 410.49 188.00\">\n",
       "<g id=\"graph0\" class=\"graph\" transform=\"scale(1 1) rotate(0) translate(4 184)\">\n",
       "<title>G</title>\n",
       "<!-- user_intent -->\n",
       "<g id=\"node1\" class=\"node\">\n",
       "<title>user_intent</title>\n",
       "<g id=\"a_node1\"><a xlink:title=\"(0) user_intent\">\n",
       "<ellipse fill=\"#404040\" stroke=\"black\" cx=\"63.69\" cy=\"-162\" rx=\"63.89\" ry=\"18\"/>\n",
       "<text text-anchor=\"middle\" x=\"63.69\" y=\"-158.3\" font-family=\"Times,serif\" font-size=\"14.00\" fill=\"white\">user_intent</text>\n",
       "</a>\n",
       "</g>\n",
       "</g>\n",
       "<!-- robot_intent -->\n",
       "<g id=\"node3\" class=\"node\">\n",
       "<title>robot_intent</title>\n",
       "<g id=\"a_node3\"><a xlink:title=\"(3) robot_intent\">\n",
       "<ellipse fill=\"#404040\" stroke=\"black\" cx=\"145.69\" cy=\"-90\" rx=\"67.69\" ry=\"18\"/>\n",
       "<text text-anchor=\"middle\" x=\"145.69\" y=\"-86.3\" font-family=\"Times,serif\" font-size=\"14.00\" fill=\"white\">robot_intent</text>\n",
       "</a>\n",
       "</g>\n",
       "</g>\n",
       "<!-- user_intent&#45;&gt;robot_intent -->\n",
       "<g id=\"edge2\" class=\"edge\">\n",
       "<title>user_intent-&gt;robot_intent</title>\n",
       "<g id=\"a_edge2\"><a xlink:title=\"0 → 3\">\n",
       "<path fill=\"none\" stroke=\"#4a4a4a\" d=\"M82.71,-144.76C93.4,-135.64 106.91,-124.1 118.68,-114.06\"/>\n",
       "<polygon fill=\"#4a4a4a\" stroke=\"#4a4a4a\" points=\"121.16,-116.54 126.49,-107.39 116.62,-111.22 121.16,-116.54\"/>\n",
       "</a>\n",
       "</g>\n",
       "</g>\n",
       "<!-- user_preference -->\n",
       "<g id=\"node2\" class=\"node\">\n",
       "<title>user_preference</title>\n",
       "<g id=\"a_node2\"><a xlink:title=\"(2) user_preference\">\n",
       "<ellipse fill=\"#404040\" stroke=\"black\" cx=\"316.69\" cy=\"-90\" rx=\"85.59\" ry=\"18\"/>\n",
       "<text text-anchor=\"middle\" x=\"316.69\" y=\"-86.3\" font-family=\"Times,serif\" font-size=\"14.00\" fill=\"white\">user_preference</text>\n",
       "</a>\n",
       "</g>\n",
       "</g>\n",
       "<!-- robot_revised_intent -->\n",
       "<g id=\"node5\" class=\"node\">\n",
       "<title>robot_revised_intent</title>\n",
       "<g id=\"a_node5\"><a xlink:title=\"(4) robot_revised_intent\">\n",
       "<ellipse fill=\"#404040\" stroke=\"black\" cx=\"230.69\" cy=\"-18\" rx=\"106.68\" ry=\"18\"/>\n",
       "<text text-anchor=\"middle\" x=\"230.69\" y=\"-14.3\" font-family=\"Times,serif\" font-size=\"14.00\" fill=\"white\">robot_revised_intent</text>\n",
       "</a>\n",
       "</g>\n",
       "</g>\n",
       "<!-- user_preference&#45;&gt;robot_revised_intent -->\n",
       "<g id=\"edge1\" class=\"edge\">\n",
       "<title>user_preference-&gt;robot_revised_intent</title>\n",
       "<g id=\"a_edge1\"><a xlink:title=\"2 → 4\">\n",
       "<path fill=\"none\" stroke=\"#4a4a4a\" d=\"M296.31,-72.41C285.26,-63.41 271.41,-52.14 259.29,-42.27\"/>\n",
       "<polygon fill=\"#4a4a4a\" stroke=\"#4a4a4a\" points=\"261.19,-39.31 251.23,-35.71 256.77,-44.74 261.19,-39.31\"/>\n",
       "</a>\n",
       "</g>\n",
       "</g>\n",
       "<!-- robot_intent&#45;&gt;robot_revised_intent -->\n",
       "<g id=\"edge4\" class=\"edge\">\n",
       "<title>robot_intent-&gt;robot_revised_intent</title>\n",
       "<g id=\"a_edge4\"><a xlink:title=\"3 → 4\">\n",
       "<path fill=\"none\" stroke=\"#4a4a4a\" d=\"M165.41,-72.76C176.33,-63.77 190.09,-52.44 202.17,-42.49\"/>\n",
       "<polygon fill=\"#4a4a4a\" stroke=\"#4a4a4a\" points=\"204.71,-44.94 210.2,-35.88 200.26,-39.53 204.71,-44.94\"/>\n",
       "</a>\n",
       "</g>\n",
       "</g>\n",
       "<!-- discourse_state -->\n",
       "<g id=\"node4\" class=\"node\">\n",
       "<title>discourse_state</title>\n",
       "<g id=\"a_node4\"><a xlink:title=\"(1) discourse_state\">\n",
       "<ellipse fill=\"#404040\" stroke=\"black\" cx=\"228.69\" cy=\"-162\" rx=\"83.39\" ry=\"18\"/>\n",
       "<text text-anchor=\"middle\" x=\"228.69\" y=\"-158.3\" font-family=\"Times,serif\" font-size=\"14.00\" fill=\"white\">discourse_state</text>\n",
       "</a>\n",
       "</g>\n",
       "</g>\n",
       "<!-- discourse_state&#45;&gt;robot_intent -->\n",
       "<g id=\"edge3\" class=\"edge\">\n",
       "<title>discourse_state-&gt;robot_intent</title>\n",
       "<g id=\"a_edge3\"><a xlink:title=\"1 → 3\">\n",
       "<path fill=\"none\" stroke=\"#4a4a4a\" d=\"M209.02,-144.41C198.27,-135.34 184.79,-123.97 173.03,-114.06\"/>\n",
       "<polygon fill=\"#4a4a4a\" stroke=\"#4a4a4a\" points=\"175.12,-111.24 165.22,-107.47 170.61,-116.59 175.12,-111.24\"/>\n",
       "</a>\n",
       "</g>\n",
       "</g>\n",
       "</g>\n",
       "</svg>"
      ],
      "text/plain": [
       "<IPython.core.display.SVG object>"
      ]
     },
     "metadata": {},
     "output_type": "display_data"
    }
   ],
   "source": [
    "gnb.showBN(bn,size='30')"
   ]
  },
  {
   "cell_type": "code",
   "execution_count": 55,
   "metadata": {},
   "outputs": [
    {
     "data": {
      "text/html": [
       "<table style=\"border:1px solid black;\">\n",
       "<tr style='border:1px solid black;color:black;background-color:#808080'>\n",
       "      <th colspan='2'><center>user_intent</center></th></tr>\n",
       "<tr><th style='border:1px solid black;border-bottom-style: double;color:black;background-color:#BBBBBB'>\n",
       "      <center>information_request</center></th><th style='border:1px solid black;border-bottom-style: double;color:black;background-color:#BBBBBB'>\n",
       "      <center>opinion_expression</center></th></tr>\n",
       "<tr><td style='color:black;background-color:#d8a564;text-align:right;'>0.3000</td><td style='color:black;background-color:#a5d864;text-align:right;'>0.7000</td></tr>\n",
       "</table>"
      ],
      "text/plain": [
       "(pyAgrum.Potential<double>@0x563158acb370) \n",
       "  user_intent      |\n",
       "informati|opinion_e|\n",
       "---------|---------|\n",
       " 0.3000  | 0.7000  |"
      ]
     },
     "execution_count": 55,
     "metadata": {},
     "output_type": "execute_result"
    }
   ],
   "source": [
    "bn.cpt(user_intent).fillWith([0.3,0.7])\n",
    "bn.cpt(user_intent)"
   ]
  },
  {
   "cell_type": "code",
   "execution_count": 56,
   "metadata": {},
   "outputs": [
    {
     "data": {
      "text/html": [
       "<table style=\"border:1px solid black;\">\n",
       "<tr style='border:1px solid black;color:black;background-color:#808080'>\n",
       "      <th colspan='2'><center>discourse_state</center></th></tr>\n",
       "<tr><th style='border:1px solid black;border-bottom-style: double;color:black;background-color:#BBBBBB'>\n",
       "      <center>previous_topic</center></th><th style='border:1px solid black;border-bottom-style: double;color:black;background-color:#BBBBBB'>\n",
       "      <center>new_topic</center></th></tr>\n",
       "<tr><td style='color:black;background-color:#98e564;text-align:right;'>0.8000</td><td style='color:black;background-color:#e59864;text-align:right;'>0.2000</td></tr>\n",
       "</table>"
      ],
      "text/plain": [
       "(pyAgrum.Potential<double>@0x563158779fb0) \n",
       "  discourse_state  |\n",
       "previous_|new_topic|\n",
       "---------|---------|\n",
       " 0.8000  | 0.2000  |"
      ]
     },
     "execution_count": 56,
     "metadata": {},
     "output_type": "execute_result"
    }
   ],
   "source": [
    "bn.cpt(discourse_state).fillWith([0.8,0.2])\n",
    "bn.cpt(discourse_state)"
   ]
  },
  {
   "cell_type": "code",
   "execution_count": 57,
   "metadata": {},
   "outputs": [
    {
     "data": {
      "text/html": [
       "<table style=\"border:1px solid black;\">\n",
       "<tr style='border:1px solid black;color:black;background-color:#808080'>\n",
       "      <th colspan='2'><center>user_preference</center></th></tr>\n",
       "<tr><th style='border:1px solid black;border-bottom-style: double;color:black;background-color:#BBBBBB'>\n",
       "      <center>long_statements</center></th><th style='border:1px solid black;border-bottom-style: double;color:black;background-color:#BBBBBB'>\n",
       "      <center>short_statements</center></th></tr>\n",
       "<tr><td style='color:black;background-color:#cbb264;text-align:right;'>0.4000</td><td style='color:black;background-color:#b2cb64;text-align:right;'>0.6000</td></tr>\n",
       "</table>"
      ],
      "text/plain": [
       "(pyAgrum.Potential<double>@0x563158b39bd0) \n",
       "  user_preference  |\n",
       "long_stat|short_sta|\n",
       "---------|---------|\n",
       " 0.4000  | 0.6000  |"
      ]
     },
     "execution_count": 57,
     "metadata": {},
     "output_type": "execute_result"
    }
   ],
   "source": [
    "bn.cpt(user_preference).fillWith([0.4,0.6])\n",
    "bn.cpt(user_preference)"
   ]
  },
  {
   "cell_type": "code",
   "execution_count": 58,
   "metadata": {},
   "outputs": [
    {
     "data": {
      "text/html": [
       "<table style=\"border:1px solid black;\">\n",
       "<tr><th colspan='2'></th>\n",
       "      <th colspan='2' style='border:1px solid black;color:black;background-color:#808080;'><center>robot_intent</center>\n",
       "      </th></tr>\n",
       "<tr><th style='border:1px solid black;color:black;background-color:#808080'><center>discourse_state</center></th><th style='border:1px solid black;color:black;background-color:#808080'><center>user_intent</center></th><th style='border:1px solid black;border-bottom-style: double;color:black;background-color:#BBBBBB'>\n",
       "      <center>acknowledge</center></th><th style='border:1px solid black;border-bottom-style: double;color:black;background-color:#BBBBBB'>\n",
       "      <center>provide_statement</center></th></tr>\n",
       "<tr><th style='border:1px solid black;color:black;background-color:#BBBBBB;' rowspan = '2'>\n",
       "            <center>previous_topic</center></th><th style='border:1px solid black;color:black;background-color:#BBBBBB'><center>information_request</center></th><td style='color:black;background-color:#ff7f64;text-align:right;'>0.0000</td><td style='color:black;background-color:#7fff64;text-align:right;'>1.0000</td></tr>\n",
       "<tr><th style='border:1px solid black;color:black;background-color:#BBBBBB'><center>opinion_expression</center></th><td style='color:black;background-color:#8bf264;text-align:right;'>0.9000</td><td style='color:black;background-color:#f28b64;text-align:right;'>0.1000</td></tr>\n",
       "<tr><th style='border:1px solid black;color:black;background-color:#BBBBBB;' rowspan = '2'>\n",
       "            <center>new_topic</center></th><th style='border:1px solid black;color:black;background-color:#BBBBBB'><center>information_request</center></th><td style='color:black;background-color:#ff7f64;text-align:right;'>0.0000</td><td style='color:black;background-color:#7fff64;text-align:right;'>1.0000</td></tr>\n",
       "<tr><th style='border:1px solid black;color:black;background-color:#BBBBBB'><center>opinion_expression</center></th><td style='color:black;background-color:#a5d864;text-align:right;'>0.7000</td><td style='color:black;background-color:#d8a564;text-align:right;'>0.3000</td></tr>\n",
       "</table>"
      ],
      "text/plain": [
       "(pyAgrum.Potential<double>@0x563157b35620) \n",
       "             ||  robot_intent     |\n",
       "user_i|discou||acknowled|provide_s|\n",
       "------|------||---------|---------|\n",
       "inform|previo|| 0.0000  | 1.0000  |\n",
       "opinio|previo|| 0.9000  | 0.1000  |\n",
       "inform|new_to|| 0.0000  | 1.0000  |\n",
       "opinio|new_to|| 0.7000  | 0.3000  |"
      ]
     },
     "execution_count": 58,
     "metadata": {},
     "output_type": "execute_result"
    }
   ],
   "source": [
    "bn.cpt(robot_intent)[{\"user_intent\": \"information_request\", \"discourse_state\": \"previous_topic\"}] = [0.0, 1.0]\n",
    "bn.cpt(robot_intent)[{\"user_intent\": \"opinion_expression\", \"discourse_state\": \"previous_topic\"}] = [0.9, 0.1]\n",
    "bn.cpt(robot_intent)[{\"user_intent\": \"information_request\", \"discourse_state\": \"new_topic\"}] = [0.0, 1.0]\n",
    "bn.cpt(robot_intent)[{\"user_intent\": \"opinion_expression\", \"discourse_state\": \"new_topic\"}] = [0.7, 0.3]\n",
    "\n",
    "bn.cpt(robot_intent)"
   ]
  },
  {
   "cell_type": "code",
   "execution_count": 59,
   "metadata": {},
   "outputs": [
    {
     "data": {
      "text/html": [
       "<table style=\"border:1px solid black;\">\n",
       "<tr><th colspan='2'></th>\n",
       "      <th colspan='4' style='border:1px solid black;color:black;background-color:#808080;'><center>robot_revised_intent</center>\n",
       "      </th></tr>\n",
       "<tr><th style='border:1px solid black;color:black;background-color:#808080'><center>robot_intent</center></th><th style='border:1px solid black;color:black;background-color:#808080'><center>user_preference</center></th><th style='border:1px solid black;border-bottom-style: double;color:black;background-color:#BBBBBB'>\n",
       "      <center>acknowledge_short</center></th><th style='border:1px solid black;border-bottom-style: double;color:black;background-color:#BBBBBB'>\n",
       "      <center>acknowledge_long</center></th><th style='border:1px solid black;border-bottom-style: double;color:black;background-color:#BBBBBB'>\n",
       "      <center>provide_statement_short</center></th><th style='border:1px solid black;border-bottom-style: double;color:black;background-color:#BBBBBB'>\n",
       "      <center>provide_statement_long</center></th></tr>\n",
       "<tr><th style='border:1px solid black;color:black;background-color:#BBBBBB;' rowspan = '2'>\n",
       "            <center>acknowledge</center></th><th style='border:1px solid black;color:black;background-color:#BBBBBB'><center>long_statements</center></th><td style='color:black;background-color:#f28b64;text-align:right;'>0.1000</td><td style='color:black;background-color:#8bf264;text-align:right;'>0.9000</td><td style='color:black;background-color:#ff7f64;text-align:right;'>0.0000</td><td style='color:black;background-color:#ff7f64;text-align:right;'>0.0000</td></tr>\n",
       "<tr><th style='border:1px solid black;color:black;background-color:#BBBBBB'><center>short_statements</center></th><td style='color:black;background-color:#8bf264;text-align:right;'>0.9000</td><td style='color:black;background-color:#f28b64;text-align:right;'>0.1000</td><td style='color:black;background-color:#ff7f64;text-align:right;'>0.0000</td><td style='color:black;background-color:#ff7f64;text-align:right;'>0.0000</td></tr>\n",
       "<tr><th style='border:1px solid black;color:black;background-color:#BBBBBB;' rowspan = '2'>\n",
       "            <center>provide_statement</center></th><th style='border:1px solid black;color:black;background-color:#BBBBBB'><center>long_statements</center></th><td style='color:black;background-color:#ff7f64;text-align:right;'>0.0000</td><td style='color:black;background-color:#ff7f64;text-align:right;'>0.0000</td><td style='color:black;background-color:#f28b64;text-align:right;'>0.1000</td><td style='color:black;background-color:#8bf264;text-align:right;'>0.9000</td></tr>\n",
       "<tr><th style='border:1px solid black;color:black;background-color:#BBBBBB'><center>short_statements</center></th><td style='color:black;background-color:#ff7f64;text-align:right;'>0.0000</td><td style='color:black;background-color:#ff7f64;text-align:right;'>0.0000</td><td style='color:black;background-color:#8bf264;text-align:right;'>0.9000</td><td style='color:black;background-color:#f28b64;text-align:right;'>0.1000</td></tr>\n",
       "</table>"
      ],
      "text/plain": [
       "(pyAgrum.Potential<double>@0x563158e88020) \n",
       "             ||  robot_revised_intent                 |\n",
       "user_p|robot_||acknowled|acknowled|provide_s|provide_s|\n",
       "------|------||---------|---------|---------|---------|\n",
       "long_s|acknow|| 0.1000  | 0.9000  | 0.0000  | 0.0000  |\n",
       "short_|acknow|| 0.9000  | 0.1000  | 0.0000  | 0.0000  |\n",
       "long_s|provid|| 0.0000  | 0.0000  | 0.1000  | 0.9000  |\n",
       "short_|provid|| 0.0000  | 0.0000  | 0.9000  | 0.1000  |"
      ]
     },
     "execution_count": 59,
     "metadata": {},
     "output_type": "execute_result"
    }
   ],
   "source": [
    "bn.cpt(robot_revised_intent)[{\"robot_intent\": \"acknowledge\", \"user_preference\": \"long_statements\"}] = [0.1, 0.9, 0.0, 0.0]\n",
    "bn.cpt(robot_revised_intent)[{\"robot_intent\": \"acknowledge\", \"user_preference\": \"short_statements\"}] = [0.9, 0.1, 0.0, 0.0]\n",
    "bn.cpt(robot_revised_intent)[{\"robot_intent\": \"provide_statement\", \"user_preference\": \"long_statements\"}] = [0.0, 0.0, 0.1, 0.9]\n",
    "bn.cpt(robot_revised_intent)[{\"robot_intent\": \"provide_statement\", \"user_preference\": \"short_statements\"}] = [0.0, 0.0, 0.9, 0.1]\n",
    "\n",
    "\n",
    "bn.cpt(robot_revised_intent)"
   ]
  },
  {
   "cell_type": "code",
   "execution_count": 60,
   "metadata": {},
   "outputs": [
    {
     "name": "stdout",
     "output_type": "stream",
     "text": [
      "P(robot_intent = acknowledge | user_intent = information_request, user_preference = long_statements) = 0.0\n",
      "P(robot_intent = acknowledge | user_intent = information_request, user_preference = long_statements, discourse_state = new_topic) = 0.0\n"
     ]
    }
   ],
   "source": [
    "ie = gum.LazyPropagation(bn)\n",
    "ie.setEvidence({'user_intent': 'information_request', 'user_preference': 'long_statements'})\n",
    "ie.makeInference()\n",
    "prob = ie.posterior(robot_intent)\n",
    "print(f\"P(robot_intent = acknowledge | user_intent = information_request, user_preference = long_statements) = {prob[{'robot_intent': 'acknowledge'}]}\")\n",
    "\n",
    "ie.setEvidence({'user_intent': 'information_request', 'user_preference': 'long_statements', 'discourse_state': 'new_topic'})\n",
    "ie.makeInference()\n",
    "prob = ie.posterior(robot_intent)\n",
    "print(f\"P(robot_intent = acknowledge | user_intent = information_request, user_preference = long_statements, discourse_state = new_topic) = {prob[{'robot_intent': 'acknowledge'}]}\")\n",
    "\n"
   ]
  }
 ],
 "metadata": {
  "kernelspec": {
   "display_name": "Python 3",
   "language": "python",
   "name": "python3"
  },
  "language_info": {
   "codemirror_mode": {
    "name": "ipython",
    "version": 3
   },
   "file_extension": ".py",
   "mimetype": "text/x-python",
   "name": "python",
   "nbconvert_exporter": "python",
   "pygments_lexer": "ipython3",
   "version": "3.10.12"
  }
 },
 "nbformat": 4,
 "nbformat_minor": 2
}
